{
 "cells": [
  {
   "cell_type": "code",
   "execution_count": 1,
   "id": "786f2e40",
   "metadata": {},
   "outputs": [],
   "source": [
    "# Step 1 — Load (Excel) & Clean UCI Online Retail (script-style)\n",
    "# What this script does:\n",
    "# 1) Load the UCI Online Retail EXCEL file (path below).\n",
    "# 2) Remove any row with at least one missing value (NaN / \"\" / blank).\n",
    "# 3) Drop exact duplicate rows.\n",
    "# 4) Remove returned/cancelled invoices (InvoiceNo starting with 'C').\n",
    "# 5) Remove negative values in Quantity and UnitPrice.\n",
    "# 6) Print the shape (rows, cols) before and after cleaning.\n",
    "\n",
    "from pathlib import Path\n",
    "import numpy as np\n",
    "import pandas as pd\n"
   ]
  },
  {
   "cell_type": "code",
   "execution_count": 2,
   "id": "844e83f8",
   "metadata": {},
   "outputs": [],
   "source": [
    "#path\n",
    "DATA_PATH = Path(\"/mnt/f/online+retail/Online Retail.xlsx\")\n",
    "\n",
    "if not DATA_PATH.exists():\n",
    "    raise FileNotFoundError(f\"Excel file not found: {DATA_PATH.resolve()}\")"
   ]
  },
  {
   "cell_type": "code",
   "execution_count": 3,
   "id": "8ea413a2",
   "metadata": {},
   "outputs": [],
   "source": [
    "#Load raw data\n",
    "df = pd.read_excel(DATA_PATH, dtype={\"InvoiceNo\": str, \"StockCode\": str})\n",
    "df[\"InvoiceNo\"] = df[\"InvoiceNo\"].astype(\"string\")\n",
    "df[\"StockCode\"]  = df[\"StockCode\"].astype(\"string\")\n",
    "\n",
    "expected_cols = [\"InvoiceNo\", \"StockCode\", \"Description\", \"Quantity\",\n",
    "                 \"InvoiceDate\", \"UnitPrice\", \"CustomerID\", \"Country\"]\n",
    "missing = [c for c in expected_cols if c not in df.columns]\n",
    "if missing:\n",
    "    print(f\"Warning: missing expected columns: {missing}\")\n",
    "\n",
    "shape_before = df.shape"
   ]
  },
  {
   "cell_type": "code",
   "execution_count": 4,
   "id": "b0cb27e3",
   "metadata": {},
   "outputs": [],
   "source": [
    "#Normalize empty strings\n",
    "for col in df.columns:\n",
    "    if pd.api.types.is_string_dtype(df[col]):\n",
    "        s = df[col].astype(\"string\").str.strip()\n",
    "        df[col] = s.mask(s == \"\", np.nan)"
   ]
  },
  {
   "cell_type": "code",
   "execution_count": 5,
   "id": "930a709e",
   "metadata": {},
   "outputs": [],
   "source": [
    "#Coerce numerics if needed\n",
    "for col in [\"Quantity\", \"UnitPrice\", \"CustomerID\"]:\n",
    "    if col in df.columns:\n",
    "        df[col] = pd.to_numeric(df[col], errors=\"coerce\")"
   ]
  },
  {
   "cell_type": "code",
   "execution_count": 6,
   "id": "95af0e33",
   "metadata": {},
   "outputs": [],
   "source": [
    "df = df.dropna(axis=0, how=\"any\")"
   ]
  },
  {
   "cell_type": "code",
   "execution_count": 7,
   "id": "71a442a1",
   "metadata": {},
   "outputs": [],
   "source": [
    "df = df.drop_duplicates()"
   ]
  },
  {
   "cell_type": "code",
   "execution_count": 8,
   "id": "e38d822b",
   "metadata": {},
   "outputs": [],
   "source": [
    "if \"InvoiceNo\" in df.columns:\n",
    "    df = df[~df[\"InvoiceNo\"].str.startswith(\"C\")]\n"
   ]
  },
  {
   "cell_type": "code",
   "execution_count": 9,
   "id": "3c4c745c",
   "metadata": {},
   "outputs": [],
   "source": [
    "if \"Quantity\" in df.columns:\n",
    "    df = df[df[\"Quantity\"] >= 0]\n",
    "if \"UnitPrice\" in df.columns:\n",
    "    df = df[df[\"UnitPrice\"] >= 0]"
   ]
  },
  {
   "cell_type": "code",
   "execution_count": 10,
   "id": "1acf0bd4",
   "metadata": {},
   "outputs": [],
   "source": [
    "# Convert Quantity to integer if all values are integral\n",
    "if \"Quantity\" in df.columns and pd.api.types.is_float_dtype(df[\"Quantity\"]):\n",
    "    # Check fractional parts are all zero\n",
    "    if np.all(np.modf(df[\"Quantity\"].to_numpy())[0] == 0):\n",
    "        df[\"Quantity\"] = df[\"Quantity\"].astype(\"int64\")\n",
    "\n",
    "# Parse InvoiceDate to datetime (useful later); drop rows where parsing fails\n",
    "if \"InvoiceDate\" in df.columns and not pd.api.types.is_datetime64_any_dtype(df[\"InvoiceDate\"]):\n",
    "    df[\"InvoiceDate\"] = pd.to_datetime(df[\"InvoiceDate\"], errors=\"coerce\")\n",
    "    df = df.dropna(subset=[\"InvoiceDate\"])"
   ]
  },
  {
   "cell_type": "code",
   "execution_count": 11,
   "id": "fd23ecc6",
   "metadata": {},
   "outputs": [
    {
     "name": "stdout",
     "output_type": "stream",
     "text": [
      "Loaded shape:           (541909, 8)\n",
      "Shape after  cleaning:  (392732, 8)\n"
     ]
    }
   ],
   "source": [
    "shape_after = df.shape\n",
    "print(f\"Loaded shape:           {shape_before}\")\n",
    "print(f\"Shape after  cleaning:  {shape_after}\")"
   ]
  },
  {
   "cell_type": "code",
   "execution_count": 12,
   "id": "c4fe82aa",
   "metadata": {},
   "outputs": [],
   "source": [
    "# Step 2 — Build Transaction × Item binary matrix (script-style, no functions)\n",
    "# Represent data as a binary matrix where rows are invoices (transactions)\n",
    "# and columns are items (StockCode). Entry (i, j) = 1 if item j appears in\n",
    "# invoice i, otherwise 0. We use a sparse CSR matrix for scalability.\n",
    "from scipy import sparse"
   ]
  },
  {
   "cell_type": "code",
   "execution_count": 13,
   "id": "18806508",
   "metadata": {},
   "outputs": [],
   "source": [
    "tx_item = (\n",
    "    df.loc[:, [\"InvoiceNo\", \"StockCode\"]]\n",
    "      .drop_duplicates(ignore_index=True)\n",
    ")\n",
    "\n",
    "tx_item = tx_item.sort_values([\"InvoiceNo\", \"StockCode\"], kind=\"mergesort\", ignore_index=True)"
   ]
  },
  {
   "cell_type": "code",
   "execution_count": 14,
   "id": "dc88a668",
   "metadata": {},
   "outputs": [],
   "source": [
    "tx_item[\"txn_id\"]  = tx_item[\"InvoiceNo\"].astype(\"category\").cat.codes\n",
    "tx_item[\"item_id\"] = tx_item[\"StockCode\"].astype(\"category\").cat.codes\n",
    "\n",
    "n_txn  = tx_item[\"txn_id\"].max() + 1\n",
    "n_item = tx_item[\"item_id\"].max() + 1"
   ]
  },
  {
   "cell_type": "code",
   "execution_count": 15,
   "id": "bbd34a96",
   "metadata": {},
   "outputs": [],
   "source": [
    "#Build sparse matrix\n",
    "row_idx = tx_item[\"txn_id\"].to_numpy(dtype=np.int64, copy=False)\n",
    "col_idx = tx_item[\"item_id\"].to_numpy(dtype=np.int64, copy=False)\n",
    "data    = np.ones(row_idx.shape[0], dtype=np.uint8)\n",
    "\n",
    "X = sparse.csr_matrix((data, (row_idx, col_idx)), shape=(n_txn, n_item))"
   ]
  },
  {
   "cell_type": "code",
   "execution_count": 16,
   "id": "d249d3e8",
   "metadata": {},
   "outputs": [],
   "source": [
    "txn_index_to_invoiceno = (\n",
    "    tx_item[[\"InvoiceNo\", \"txn_id\"]]\n",
    "    .drop_duplicates(subset=[\"txn_id\"])\n",
    "    .sort_values(\"txn_id\", kind=\"mergesort\")\n",
    "    .reset_index(drop=True)[\"InvoiceNo\"]\n",
    ")\n",
    "\n",
    "item_index_to_stockcode = (\n",
    "    tx_item[[\"StockCode\", \"item_id\"]]\n",
    "    .drop_duplicates(subset=[\"item_id\"])\n",
    "    .sort_values(\"item_id\", kind=\"mergesort\")\n",
    "    .reset_index(drop=True)[\"StockCode\"]\n",
    ")"
   ]
  },
  {
   "cell_type": "code",
   "execution_count": 17,
   "id": "e86fb370",
   "metadata": {},
   "outputs": [
    {
     "name": "stdout",
     "output_type": "stream",
     "text": [
      "Transaction-Item matrix (binary) — CSR\n",
      "  shape:         (18536, 3665)  (transactions × items)\n",
      "  non-zeros:     387875\n",
      "  density:       0.00570955\n",
      "  sparsity:      0.99429045\n"
     ]
    }
   ],
   "source": [
    "num_nonzeros = X.nnz\n",
    "sparsity = 1.0 - (num_nonzeros / (X.shape[0] * X.shape[1])) if X.shape[0] * X.shape[1] > 0 else 1.0\n",
    "\n",
    "print(\"Transaction-Item matrix (binary) — CSR\")\n",
    "print(f\"  shape:         {X.shape}  (transactions × items)\")\n",
    "print(f\"  non-zeros:     {num_nonzeros}\")\n",
    "print(f\"  density:       {num_nonzeros / (X.shape[0]*X.shape[1]):.8f}\")\n",
    "print(f\"  sparsity:      {sparsity:.8f}\")"
   ]
  },
  {
   "cell_type": "code",
   "execution_count": 18,
   "id": "31582b74",
   "metadata": {},
   "outputs": [],
   "source": [
    "# Step 3— Streaming simulation by chronological batches \n",
    "# Split transactions into sequential time-ordered batches to simulate\n",
    "# streaming data arrival and enable time-evolving matrix monitoring."
   ]
  },
  {
   "cell_type": "code",
   "execution_count": 19,
   "id": "703fb642",
   "metadata": {},
   "outputs": [],
   "source": [
    "invoice_time = (\n",
    "    df.loc[:, [\"InvoiceNo\", \"InvoiceDate\"]]\n",
    "      .drop_duplicates(subset=[\"InvoiceNo\"], keep=\"first\")\n",
    ")\n",
    "\n",
    "\n",
    "txn_map = (\n",
    "    tx_item.loc[:, [\"InvoiceNo\", \"txn_id\"]]\n",
    "           .drop_duplicates(subset=[\"InvoiceNo\"], keep=\"first\")\n",
    ")\n",
    "\n",
    "txn_timeline = (\n",
    "    txn_map.merge(invoice_time, on=\"InvoiceNo\", how=\"inner\")\n",
    "           .sort_values(\"InvoiceDate\", kind=\"mergesort\", ignore_index=True)\n",
    ")\n",
    "\n",
    "\n",
    "ordered_txn_ids = txn_timeline[\"txn_id\"].to_numpy(dtype=np.int64, copy=False)\n",
    "ordered_dates   = txn_timeline[\"InvoiceDate\"].to_numpy(copy=False)\n",
    "n_txn = ordered_txn_ids.shape[0]"
   ]
  },
  {
   "cell_type": "code",
   "execution_count": 20,
   "id": "054c9e42",
   "metadata": {},
   "outputs": [
    {
     "name": "stdout",
     "output_type": "stream",
     "text": [
      "Streaming simulation plan\n",
      "  total transactions:  18536\n",
      "  target avg batch:    1000\n",
      "  chosen #batches:     19\n",
      "  nominal batch size:  976\n"
     ]
    }
   ],
   "source": [
    "#Choose a sensible batch plan\n",
    "target_avg_batch = int(np.clip(n_txn // 20, 1000, 10_000)) if n_txn > 0 else 0\n",
    "n_batches = int(np.ceil(n_txn / target_avg_batch)) if target_avg_batch > 0 else 0\n",
    "n_batches = int(np.clip(n_batches, 8, 50)) if n_batches > 0 else 0\n",
    "batch_size = int(np.ceil(n_txn / n_batches)) if n_batches > 0 else 0\n",
    "\n",
    "print(\"Streaming simulation plan\")\n",
    "print(f\"  total transactions:  {n_txn}\")\n",
    "print(f\"  target avg batch:    {target_avg_batch}\")\n",
    "print(f\"  chosen #batches:     {n_batches}\")\n",
    "print(f\"  nominal batch size:  {batch_size}\")"
   ]
  },
  {
   "cell_type": "code",
   "execution_count": 21,
   "id": "cdbb71e5",
   "metadata": {},
   "outputs": [],
   "source": [
    "#Slice transactions into batches\n",
    "stream_batches_txn_ids = []\n",
    "stream_batches_dates = []  # (start, end) timestamps for reporting\n",
    "\n",
    "start = 0\n",
    "for b in range(n_batches):\n",
    "    end = min(start + batch_size, n_txn)\n",
    "    if start >= end:\n",
    "        break\n",
    "    batch_txn_ids = ordered_txn_ids[start:end]\n",
    "    stream_batches_txn_ids.append(batch_txn_ids)\n",
    "\n",
    "    batch_dates = ordered_dates[start:end]\n",
    "    stream_batches_dates.append((pd.to_datetime(batch_dates[0]),\n",
    "                                 pd.to_datetime(batch_dates[-1])))\n",
    "    start = end"
   ]
  },
  {
   "cell_type": "code",
   "execution_count": 22,
   "id": "f7d7075a",
   "metadata": {},
   "outputs": [
    {
     "name": "stdout",
     "output_type": "stream",
     "text": [
      "\n",
      "Batches (chronological):\n",
      "  Batch 01: size=   976 | window=[2010-12-01 08:26 → 2010-12-14 11:42]\n",
      "  Batch 02: size=   976 | window=[2010-12-14 11:43 → 2011-01-19 12:34]\n",
      "  Batch 03: size=   976 | window=[2011-01-19 12:38 → 2011-02-16 12:59]\n",
      "  Batch 04: size=   976 | window=[2011-02-16 13:00 → 2011-03-14 13:25]\n",
      "  Batch 05: size=   976 | window=[2011-03-14 13:35 → 2011-04-05 13:52]\n",
      "  Batch 06: size=   976 | window=[2011-04-05 13:56 → 2011-05-01 10:51]\n",
      "  Batch 07: size=   976 | window=[2011-05-01 11:10 → 2011-05-19 10:38]\n",
      "  Batch 08: size=   976 | window=[2011-05-19 10:43 → 2011-06-09 08:45]\n",
      "  Batch 09: size=   976 | window=[2011-06-09 09:16 → 2011-06-30 16:22]\n",
      "  Batch 10: size=   976 | window=[2011-06-30 16:28 → 2011-07-24 10:54]\n",
      "  Batch 11: size=   976 | window=[2011-07-24 11:06 → 2011-08-15 14:50]\n",
      "  Batch 12: size=   976 | window=[2011-08-15 14:51 → 2011-09-06 13:11]\n",
      "  Batch 13: size=   976 | window=[2011-09-06 13:20 → 2011-09-23 14:17]\n",
      "  Batch 14: size=   976 | window=[2011-09-23 14:21 → 2011-10-09 13:58]\n",
      "  Batch 15: size=   976 | window=[2011-10-09 13:58 → 2011-10-25 13:07]\n",
      "  Batch 16: size=   976 | window=[2011-10-25 13:10 → 2011-11-07 15:37]\n",
      "  Batch 17: size=   976 | window=[2011-11-07 15:40 → 2011-11-17 15:41]\n",
      "  Batch 18: size=   976 | window=[2011-11-17 15:47 → 2011-11-29 11:41]\n",
      "  Batch 19: size=   968 | window=[2011-11-29 11:45 → 2011-12-09 12:50]\n"
     ]
    }
   ],
   "source": [
    "print(\"\\nBatches (chronological):\")\n",
    "for i, (ids, (d0, d1)) in enumerate(zip(stream_batches_txn_ids, stream_batches_dates), start=1):\n",
    "    print(f\"  Batch {i:02d}: \"\n",
    "          f\"size={ids.size:6d} | \"\n",
    "          f\"window=[{d0.strftime('%Y-%m-%d %H:%M')} → {d1.strftime('%Y-%m-%d %H:%M')}]\")"
   ]
  },
  {
   "cell_type": "code",
   "execution_count": 23,
   "id": "343cc35e",
   "metadata": {},
   "outputs": [],
   "source": [
    "# Step 4 — Part 1: From-scratch Gaussian Random Projection on streaming batches\n",
    "# For each chronological batch (from step 3), compute a GRP sketch:\n",
    "#   Y_batch = X_batch · R\n",
    "# where R ~ N(0, 1/√k) is fixed across all batches to ensure comparability over time.\n",
    "#\n",
    "# Notes:\n",
    "# - We do NOT compute analytics/metrics here; only the sketches per batch.\n",
    "# - Implementation is from scratch (no sklearn). Uses NumPy + SciPy only.\n",
    "# - X is CSR (transactions × items). R is dense (items × k). Y is dense (batch_size × k).\n",
    "# - Keep R fixed across batches (same random seed) to make temporal comparisons meaningful.\n",
    "\n",
    "from pathlib import Path\n",
    "from scipy import sparse\n",
    "import joblib\n"
   ]
  },
  {
   "cell_type": "code",
   "execution_count": 24,
   "id": "6af95c7f",
   "metadata": {},
   "outputs": [],
   "source": [
    "# ---------------------------- Preconditions ----------------------------\n",
    "# Assumes the following are already defined from previous steps:\n",
    "#   - X : csr_matrix, shape (n_txn_total, n_items)\n",
    "#   - stream_batches_txn_ids : List[np.ndarray] of txn_id arrays (batches)\n",
    "#   - stream_batches_dates  : List[Tuple[pd.Timestamp, pd.Timestamp]] (optional metadata)\n",
    "#   - item_index_to_stockcode : pd.Series mapping col index -> StockCode\n",
    "# These come from Steps 2 and 3.\n",
    "\n",
    "n_txn_total, n_items = X.shape"
   ]
  },
  {
   "cell_type": "code",
   "execution_count": 25,
   "id": "20563296",
   "metadata": {},
   "outputs": [
    {
     "name": "stdout",
     "output_type": "stream",
     "text": [
      "Gaussian Random Projection plan\n",
      "  items (d):             3665\n",
      "  transactions (n):      18536\n",
      "  chosen target dim (k): 256  (ε=0.35)\n"
     ]
    }
   ],
   "source": [
    "if n_txn_total <= 1:\n",
    "    raise ValueError(\"Not enough transactions to perform GRP.\")\n",
    "\n",
    "epsilon = 0.35\n",
    "k_jl = int(np.ceil(4.0 * np.log(max(2, n_txn_total)) / (epsilon ** 2)))\n",
    "k = int(np.clip(k_jl, 32, 256))\n",
    "\n",
    "print(\"Gaussian Random Projection plan\")\n",
    "print(f\"  items (d):             {n_items}\")\n",
    "print(f\"  transactions (n):      {n_txn_total}\")\n",
    "print(f\"  chosen target dim (k): {k}  (ε={epsilon})\")"
   ]
  },
  {
   "cell_type": "code",
   "execution_count": 26,
   "id": "ce5956f2",
   "metadata": {},
   "outputs": [],
   "source": [
    "#Build random matrix\n",
    "rng = np.random.default_rng(seed=12345)\n",
    "R = rng.standard_normal(size=(n_items, k), dtype=np.float32) / np.sqrt(k)\n",
    "R = np.asarray(R, dtype=np.float32, order=\"C\")  "
   ]
  },
  {
   "cell_type": "code",
   "execution_count": 27,
   "id": "5a0ce368",
   "metadata": {},
   "outputs": [],
   "source": [
    "out_dir = Path(\"artifacts/sketch_grp\")\n",
    "out_dir.mkdir(parents=True, exist_ok=True)"
   ]
  },
  {
   "cell_type": "code",
   "execution_count": 28,
   "id": "ddff8f83",
   "metadata": {},
   "outputs": [
    {
     "name": "stdout",
     "output_type": "stream",
     "text": [
      "[GRP] Batch 01: X_batch(976, 3665) · R(3665, 256) -> Y(976, 256)  => saved: grp_batch_01.joblib\n",
      "[GRP] Batch 02: X_batch(976, 3665) · R(3665, 256) -> Y(976, 256)  => saved: grp_batch_02.joblib\n",
      "[GRP] Batch 03: X_batch(976, 3665) · R(3665, 256) -> Y(976, 256)  => saved: grp_batch_03.joblib\n",
      "[GRP] Batch 04: X_batch(976, 3665) · R(3665, 256) -> Y(976, 256)  => saved: grp_batch_04.joblib\n",
      "[GRP] Batch 05: X_batch(976, 3665) · R(3665, 256) -> Y(976, 256)  => saved: grp_batch_05.joblib\n",
      "[GRP] Batch 06: X_batch(976, 3665) · R(3665, 256) -> Y(976, 256)  => saved: grp_batch_06.joblib\n",
      "[GRP] Batch 07: X_batch(976, 3665) · R(3665, 256) -> Y(976, 256)  => saved: grp_batch_07.joblib\n",
      "[GRP] Batch 08: X_batch(976, 3665) · R(3665, 256) -> Y(976, 256)  => saved: grp_batch_08.joblib\n",
      "[GRP] Batch 09: X_batch(976, 3665) · R(3665, 256) -> Y(976, 256)  => saved: grp_batch_09.joblib\n",
      "[GRP] Batch 10: X_batch(976, 3665) · R(3665, 256) -> Y(976, 256)  => saved: grp_batch_10.joblib\n",
      "[GRP] Batch 11: X_batch(976, 3665) · R(3665, 256) -> Y(976, 256)  => saved: grp_batch_11.joblib\n",
      "[GRP] Batch 12: X_batch(976, 3665) · R(3665, 256) -> Y(976, 256)  => saved: grp_batch_12.joblib\n",
      "[GRP] Batch 13: X_batch(976, 3665) · R(3665, 256) -> Y(976, 256)  => saved: grp_batch_13.joblib\n",
      "[GRP] Batch 14: X_batch(976, 3665) · R(3665, 256) -> Y(976, 256)  => saved: grp_batch_14.joblib\n",
      "[GRP] Batch 15: X_batch(976, 3665) · R(3665, 256) -> Y(976, 256)  => saved: grp_batch_15.joblib\n",
      "[GRP] Batch 16: X_batch(976, 3665) · R(3665, 256) -> Y(976, 256)  => saved: grp_batch_16.joblib\n",
      "[GRP] Batch 17: X_batch(976, 3665) · R(3665, 256) -> Y(976, 256)  => saved: grp_batch_17.joblib\n",
      "[GRP] Batch 18: X_batch(976, 3665) · R(3665, 256) -> Y(976, 256)  => saved: grp_batch_18.joblib\n",
      "[GRP] Batch 19: X_batch(968, 3665) · R(3665, 256) -> Y(968, 256)  => saved: grp_batch_19.joblib\n"
     ]
    }
   ],
   "source": [
    "grp_index_manifest = []\n",
    "\n",
    "for i, txn_ids in enumerate(stream_batches_txn_ids, start=1):\n",
    "    X_batch = X[txn_ids, :]  # shape: (batch_size, n_items)\n",
    "    if not sparse.isspmatrix_csr(X_batch):\n",
    "        X_batch = sparse.csr_matrix(X_batch)\n",
    "\n",
    "\n",
    "    Y_batch = (X_batch @ R).astype(np.float32, copy=False)\n",
    "\n",
    "\n",
    "    batch_path = out_dir / f\"grp_batch_{i:02d}.joblib\"\n",
    "    joblib.dump(\n",
    "        {\n",
    "            \"Y_batch\": Y_batch,                # float32, shape (batch_size, k)\n",
    "            \"txn_ids\": txn_ids,               \n",
    "            \"k\": k,\n",
    "            \"epsilon\": epsilon,\n",
    "            \"R_seed\": 12345,                   \n",
    "            \"shape_X_batch\": X_batch.shape,\n",
    "            \"shape_R\": R.shape,\n",
    "        },\n",
    "        batch_path\n",
    "    )\n",
    "\n",
    "    grp_index_manifest.append(\n",
    "        {\n",
    "            \"batch_id\": i,\n",
    "            \"file\": str(batch_path),\n",
    "            \"batch_size\": int(Y_batch.shape[0]),\n",
    "            \"txn_id_min\": int(txn_ids.min()) if txn_ids.size else None,\n",
    "            \"txn_id_max\": int(txn_ids.max()) if txn_ids.size else None,\n",
    "        }\n",
    "    )\n",
    "\n",
    "    print(f\"[GRP] Batch {i:02d}: X_batch{X_batch.shape} · R{R.shape} -> Y{Y_batch.shape}  => saved: {batch_path.name}\")"
   ]
  },
  {
   "cell_type": "code",
   "execution_count": 29,
   "id": "064149ed",
   "metadata": {},
   "outputs": [
    {
     "name": "stdout",
     "output_type": "stream",
     "text": [
      "GRP sketches complete. Projection matrix and manifest saved in 'artifacts/sketch_grp/'.\n"
     ]
    }
   ],
   "source": [
    "joblib.dump({\"R\": R, \"k\": k, \"epsilon\": epsilon, \"seed\": 12345, \"n_items\": n_items},\n",
    "            out_dir / \"grp_projection_matrix.joblib\")\n",
    "joblib.dump({\"batches\": grp_index_manifest}, out_dir / \"grp_manifest.joblib\")\n",
    "\n",
    "print(\"GRP sketches complete. Projection matrix and manifest saved in 'artifacts/sketch_grp/'.\")"
   ]
  },
  {
   "cell_type": "code",
   "execution_count": 30,
   "id": "439ba6c7",
   "metadata": {},
   "outputs": [],
   "source": [
    "# Step 4 — Part 2: From-scratch Incremental PCA on streaming batches (per-batch IPCA)\n",
    "# For each chronological batch (from Step 3), compute top-k PCA components"
   ]
  },
  {
   "cell_type": "code",
   "execution_count": 31,
   "id": "9fbf2610",
   "metadata": {},
   "outputs": [],
   "source": [
    "n_txn_total, d = X.shape"
   ]
  },
  {
   "cell_type": "code",
   "execution_count": 32,
   "id": "93498e55",
   "metadata": {},
   "outputs": [
    {
     "name": "stdout",
     "output_type": "stream",
     "text": [
      "[IPCA] Batch 01: n=976, d=3665, r=50  -> saved: ipca_batch_01.joblib\n",
      "[IPCA] Batch 02: n=976, d=3665, r=50  -> saved: ipca_batch_02.joblib\n",
      "[IPCA] Batch 03: n=976, d=3665, r=50  -> saved: ipca_batch_03.joblib\n",
      "[IPCA] Batch 04: n=976, d=3665, r=50  -> saved: ipca_batch_04.joblib\n",
      "[IPCA] Batch 05: n=976, d=3665, r=50  -> saved: ipca_batch_05.joblib\n",
      "[IPCA] Batch 06: n=976, d=3665, r=50  -> saved: ipca_batch_06.joblib\n",
      "[IPCA] Batch 07: n=976, d=3665, r=50  -> saved: ipca_batch_07.joblib\n",
      "[IPCA] Batch 08: n=976, d=3665, r=50  -> saved: ipca_batch_08.joblib\n",
      "[IPCA] Batch 09: n=976, d=3665, r=50  -> saved: ipca_batch_09.joblib\n",
      "[IPCA] Batch 10: n=976, d=3665, r=50  -> saved: ipca_batch_10.joblib\n",
      "[IPCA] Batch 11: n=976, d=3665, r=50  -> saved: ipca_batch_11.joblib\n",
      "[IPCA] Batch 12: n=976, d=3665, r=50  -> saved: ipca_batch_12.joblib\n",
      "[IPCA] Batch 13: n=976, d=3665, r=50  -> saved: ipca_batch_13.joblib\n",
      "[IPCA] Batch 14: n=976, d=3665, r=50  -> saved: ipca_batch_14.joblib\n",
      "[IPCA] Batch 15: n=976, d=3665, r=50  -> saved: ipca_batch_15.joblib\n",
      "[IPCA] Batch 16: n=976, d=3665, r=50  -> saved: ipca_batch_16.joblib\n",
      "[IPCA] Batch 17: n=976, d=3665, r=50  -> saved: ipca_batch_17.joblib\n",
      "[IPCA] Batch 18: n=976, d=3665, r=50  -> saved: ipca_batch_18.joblib\n",
      "[IPCA] Batch 19: n=968, d=3665, r=50  -> saved: ipca_batch_19.joblib\n",
      "Incremental PCA (per-batch) sketches complete. Files in 'artifacts/sketch_ipca/'.\n"
     ]
    }
   ],
   "source": [
    "#Choose IPCA rank\n",
    "k_ipca = int(np.clip(50, 2, min(128, d)))  \n",
    "\n",
    "\n",
    "n_iter = 7     \n",
    "tol    = 1e-6     \n",
    "rng     = np.random.default_rng(123)  \n",
    "\n",
    "out_dir = Path(\"artifacts/sketch_ipca\")\n",
    "out_dir.mkdir(parents=True, exist_ok=True)\n",
    "\n",
    "def gram_schmidt_orth(x: np.ndarray, V: list[np.ndarray]) -> np.ndarray:\n",
    "    \"\"\"Orthonormalize vector x against an existing list of orthonormal vectors V.\"\"\"\n",
    "    if not V:\n",
    "        return x\n",
    "    for v in V:\n",
    "        x -= (v @ x) * v\n",
    "    # Normalize\n",
    "    nrm = np.linalg.norm(x)\n",
    "    if nrm > 0:\n",
    "        x /= nrm\n",
    "    return x\n",
    "\n",
    "for b_idx, txn_ids in enumerate(stream_batches_txn_ids, start=1):\n",
    "    Xb = X[txn_ids, :]             \n",
    "    if not sparse.isspmatrix_csr(Xb):\n",
    "        Xb = sparse.csr_matrix(Xb)\n",
    "    n_b = Xb.shape[0]\n",
    "    if n_b == 0:\n",
    "        continue\n",
    "\n",
    "    # μ_b = (1/n_b) * 1^T Xb  (vector of length d)\n",
    "    mu_b = np.asarray(Xb.sum(axis=0)).ravel() / float(n_b)  # shape (d,)\n",
    "\n",
    "    #Define covariance-vector product: C_b @ w\n",
    "    # C_b @ w = (1/n_b) * Xb^T ( Xb w - (μ_b^T w) * 1 )\n",
    "    ones_b = np.ones(n_b, dtype=np.float64)  \n",
    "\n",
    "    def cov_times(w: np.ndarray) -> np.ndarray:\n",
    "        # Ensure shape (d,)\n",
    "        w = w.astype(np.float64, copy=False)\n",
    "        Xw = Xb.dot(w)                                       # shape (n_b,)\n",
    "        mu_dot_w = float(mu_b @ w)\n",
    "        z = Xw - mu_dot_w * ones_b                           # Xc @ w\n",
    "        Ct_w = (Xb.T.dot(z)) / float(n_b)                    # (1/n_b) * Xc^T (Xc w)\n",
    "        return np.asarray(Ct_w).ravel()\n",
    "\n",
    "   \n",
    "    V = []                                 # list of eigenvectors (d,)\n",
    "    S = []                                 # list of eigenvalues (variances)\n",
    "    for comp in range(k_ipca):\n",
    "        # Random init orthogonal to previous components\n",
    "        w = rng.normal(size=d)\n",
    "        w = gram_schmidt_orth(w, V)\n",
    "        if np.linalg.norm(w) == 0:\n",
    "            break\n",
    "\n",
    "        last_val = 0.0\n",
    "        for it in range(n_iter):\n",
    "            u = cov_times(w)\n",
    "            u = gram_schmidt_orth(u, V)\n",
    "\n",
    "            # Normalize\n",
    "            nrm = np.linalg.norm(u)\n",
    "            if nrm == 0:\n",
    "                break\n",
    "            w = u / nrm\n",
    "\n",
    "            lam = float(w @ cov_times(w))\n",
    "            if abs(lam - last_val) <= tol * max(1.0, abs(lam)):\n",
    "                break\n",
    "            last_val = lam\n",
    "\n",
    "        # Store component if meaningful\n",
    "        eigval = float(w @ cov_times(w))\n",
    "        if eigval <= 0 or not np.isfinite(eigval):\n",
    "            break\n",
    "        V.append(w.astype(np.float32, copy=False))\n",
    "        S.append(eigval)\n",
    "\n",
    "    # Stack results\n",
    "    if V:\n",
    "        components = np.stack(V, axis=1)           # shape (d, r), r <= k_ipca\n",
    "        explained_variances = np.array(S, dtype=np.float32)  # λ_i\n",
    "        # Singular values relate via σ_i = sqrt(λ_i * (n_b - 1)) if needed later.\n",
    "    else:\n",
    "        components = np.zeros((d, 0), dtype=np.float32)\n",
    "        explained_variances = np.zeros((0,), dtype=np.float32)\n",
    "\n",
    "\n",
    "    batch_path = out_dir / f\"ipca_batch_{b_idx:02d}.joblib\"\n",
    "    joblib.dump(\n",
    "        {\n",
    "            \"batch_id\": b_idx,\n",
    "            \"txn_ids\": txn_ids,\n",
    "            \"mean_batch\": mu_b.astype(np.float32, copy=False),   # μ_b\n",
    "            \"components\": components,                            # d × r\n",
    "            \"explained_variances\": explained_variances,          # length r\n",
    "            \"n_samples_batch\": int(n_b),\n",
    "            \"n_features\": int(d),\n",
    "            \"k_target\": int(k_ipca),\n",
    "            \"n_iter\": int(n_iter),\n",
    "            \"tol\": float(tol),\n",
    "            \"rng_seed\": 123,\n",
    "        },\n",
    "        batch_path\n",
    "    )\n",
    "\n",
    "    print(f\"[IPCA] Batch {b_idx:02d}: n={n_b}, d={d}, r={components.shape[1]}  -> saved: {batch_path.name}\")\n",
    "\n",
    "print(\"Incremental PCA (per-batch) sketches complete. Files in 'artifacts/sketch_ipca/'.\")"
   ]
  },
  {
   "cell_type": "code",
   "execution_count": 33,
   "id": "f73a80a8",
   "metadata": {},
   "outputs": [],
   "source": [
    "# Step 4 — Part 3: From-scratch Frequent Directions (FD) on streaming batches\n",
    "# For each chronological batch (from Step 3), build a Frequent Directions (FD)"
   ]
  },
  {
   "cell_type": "code",
   "execution_count": 34,
   "id": "65297eca",
   "metadata": {},
   "outputs": [],
   "source": [
    "n_txn_total, d = X.shape"
   ]
  },
  {
   "cell_type": "code",
   "execution_count": 35,
   "id": "f954a9b8",
   "metadata": {},
   "outputs": [
    {
     "name": "stdout",
     "output_type": "stream",
     "text": [
      "Frequent Directions plan\n",
      "  features (d):        3665\n",
      "  sketch size (ell):   128\n",
      "  buffer size:         256\n",
      "[FD] Batch 01: n=976, d=3665 -> B(128, 3665)  => saved: fd_batch_01.joblib\n",
      "[FD] Batch 02: n=976, d=3665 -> B(128, 3665)  => saved: fd_batch_02.joblib\n",
      "[FD] Batch 03: n=976, d=3665 -> B(128, 3665)  => saved: fd_batch_03.joblib\n",
      "[FD] Batch 04: n=976, d=3665 -> B(128, 3665)  => saved: fd_batch_04.joblib\n",
      "[FD] Batch 05: n=976, d=3665 -> B(128, 3665)  => saved: fd_batch_05.joblib\n",
      "[FD] Batch 06: n=976, d=3665 -> B(128, 3665)  => saved: fd_batch_06.joblib\n",
      "[FD] Batch 07: n=976, d=3665 -> B(128, 3665)  => saved: fd_batch_07.joblib\n",
      "[FD] Batch 08: n=976, d=3665 -> B(128, 3665)  => saved: fd_batch_08.joblib\n",
      "[FD] Batch 09: n=976, d=3665 -> B(128, 3665)  => saved: fd_batch_09.joblib\n",
      "[FD] Batch 10: n=976, d=3665 -> B(128, 3665)  => saved: fd_batch_10.joblib\n",
      "[FD] Batch 11: n=976, d=3665 -> B(128, 3665)  => saved: fd_batch_11.joblib\n",
      "[FD] Batch 12: n=976, d=3665 -> B(128, 3665)  => saved: fd_batch_12.joblib\n",
      "[FD] Batch 13: n=976, d=3665 -> B(128, 3665)  => saved: fd_batch_13.joblib\n",
      "[FD] Batch 14: n=976, d=3665 -> B(128, 3665)  => saved: fd_batch_14.joblib\n",
      "[FD] Batch 15: n=976, d=3665 -> B(128, 3665)  => saved: fd_batch_15.joblib\n",
      "[FD] Batch 16: n=976, d=3665 -> B(128, 3665)  => saved: fd_batch_16.joblib\n",
      "[FD] Batch 17: n=976, d=3665 -> B(128, 3665)  => saved: fd_batch_17.joblib\n",
      "[FD] Batch 18: n=976, d=3665 -> B(128, 3665)  => saved: fd_batch_18.joblib\n",
      "[FD] Batch 19: n=968, d=3665 -> B(128, 3665)  => saved: fd_batch_19.joblib\n",
      "Frequent Directions sketches complete. Files in 'artifacts/sketch_fd/'.\n"
     ]
    }
   ],
   "source": [
    "#Choose sketch size ℓ\n",
    "\n",
    "ell = int(np.clip(128, 32, min(256, d)))\n",
    "\n",
    "print(\"Frequent Directions plan\")\n",
    "print(f\"  features (d):        {d}\")\n",
    "print(f\"  sketch size (ell):   {ell}\")\n",
    "print(f\"  buffer size:         {2*ell}\")\n",
    "\n",
    "out_dir = Path(\"artifacts/sketch_fd\")\n",
    "out_dir.mkdir(parents=True, exist_ok=True)\n",
    "\n",
    "def fd_shrink(B_buf: np.ndarray, ell: int) -> np.ndarray:\n",
    "    U, s, Vt = np.linalg.svd(B_buf, full_matrices=False)\n",
    "    delta = s[ell - 1] ** 2\n",
    "    s_shrunk_sq = np.maximum(s**2 - delta, 0.0)\n",
    "    # Keep top ℓ components\n",
    "    s_top = np.sqrt(s_shrunk_sq[:ell])\n",
    "    Vt_top = Vt[:ell, :]\n",
    "    # B_new = diag(s_top) @ Vt_top\n",
    "    B_new = (s_top[:, None] * Vt_top).astype(np.float32, copy=False)\n",
    "    return B_new  # (ℓ × d)\n",
    "\n",
    "grp_manifest = [] \n",
    "\n",
    "for b_idx, txn_ids in enumerate(stream_batches_txn_ids, start=1):\n",
    "    Xb = X[txn_ids, :]\n",
    "    if not sparse.isspmatrix_csr(Xb):\n",
    "        Xb = sparse.csr_matrix(Xb)\n",
    "\n",
    "    n_b = Xb.shape[0]\n",
    "    if n_b == 0:\n",
    "        continue\n",
    "\n",
    "    B = np.zeros((2 * ell, d), dtype=np.float32)\n",
    "    next_row = 0\n",
    "\n",
    "    indptr, indices, data = Xb.indptr, Xb.indices, Xb.data\n",
    "    for r in range(n_b):\n",
    "        start, end = indptr[r], indptr[r + 1]\n",
    "        cols = indices[start:end]\n",
    "        vals = data[start:end]\n",
    "        B[next_row, cols] = vals.astype(np.float32, copy=False)\n",
    "        next_row += 1\n",
    "\n",
    "        if next_row == 2 * ell:\n",
    "            # Buffer full: shrink\n",
    "            B = fd_shrink(B, ell)\n",
    "            # Pad back to (2ℓ × d) by adding zeros below the ℓ rows kept\n",
    "            B = np.vstack([B, np.zeros((ell, d), dtype=np.float32)])\n",
    "            next_row = ell  # top ℓ rows are occupied\n",
    "\n",
    "    # Final shrink if any rows beyond ℓ are used\n",
    "    if next_row > ell:\n",
    "        # Only pass the filled portion for the last shrink\n",
    "        B_final = fd_shrink(B[:next_row, :], ell)\n",
    "    else:\n",
    "        # If we never filled beyond ℓ rows, keep the current top part\n",
    "        B_final = B[:ell, :].copy()\n",
    "\n",
    "    batch_path = out_dir / f\"fd_batch_{b_idx:02d}.joblib\"\n",
    "    joblib.dump(\n",
    "        {\n",
    "            \"batch_id\": b_idx,\n",
    "            \"txn_ids\": txn_ids,\n",
    "            \"B\": B_final,              # ℓ × d, float32\n",
    "            \"ell\": ell,\n",
    "            \"n_features\": int(d),\n",
    "            \"n_rows_batch\": int(n_b),\n",
    "            \"buffer_rows\": int(2 * ell),\n",
    "            \"method\": \"FrequentDirections(vanilla)\",\n",
    "        },\n",
    "        batch_path\n",
    "    )\n",
    "\n",
    "    grp_manifest.append(\n",
    "        {\n",
    "            \"batch_id\": b_idx,\n",
    "            \"file\": str(batch_path),\n",
    "            \"batch_size\": int(n_b),\n",
    "            \"rows_kept\": int(ell),\n",
    "        }\n",
    "    )\n",
    "\n",
    "    print(f\"[FD] Batch {b_idx:02d}: n={n_b}, d={d} -> B{B_final.shape}  => saved: {batch_path.name}\")\n",
    "\n",
    "joblib.dump({\"batches\": grp_manifest, \"ell\": ell, \"d\": int(d)}, out_dir / \"fd_manifest.joblib\")\n",
    "\n",
    "print(\"Frequent Directions sketches complete. Files in 'artifacts/sketch_fd/'.\")"
   ]
  },
  {
   "cell_type": "code",
   "execution_count": 36,
   "id": "15a0b687",
   "metadata": {},
   "outputs": [],
   "source": [
    "# Step 5 — Analytical metrics per method (per-batch):\n",
    "# For each batch and for each sketching method (GRP, IPCA, FD), compute:\n",
    "#   1) Frobenius norm of the original batch  ||X_b||_F\n",
    "#   2) Explained variance ratio              EVR   (energy preserved / total energy)\n",
    "#   3) Reconstruction error (relative)       RE    (1 - EVR), defined appropriately\n",
    "\n",
    "from pathlib import Path\n",
    "import numpy as np\n",
    "import pandas as pd\n",
    "from scipy import sparse\n",
    "import joblib\n",
    "import re"
   ]
  },
  {
   "cell_type": "code",
   "execution_count": 37,
   "id": "ab99584e",
   "metadata": {},
   "outputs": [],
   "source": [
    "grp_dir = Path(\"artifacts/sketch_grp\")\n",
    "ipca_dir = Path(\"artifacts/sketch_ipca\")\n",
    "fd_dir = Path(\"artifacts/sketch_fd\")\n",
    "\n",
    "grp_info = joblib.load(grp_dir / \"grp_projection_matrix.joblib\")  \n",
    "R = grp_info[\"R\"].astype(np.float64, copy=False)                   \n",
    "RtR = R.T @ R\n",
    "RtR_inv = np.linalg.inv(RtR)                                       \n",
    "\n",
    "grp_manifest_loaded = joblib.load(grp_dir / \"grp_manifest.joblib\")\n",
    "if isinstance(grp_manifest_loaded, dict) and \"batches\" in grp_manifest_loaded:\n",
    "    grp_batches = grp_manifest_loaded[\"batches\"]\n",
    "elif isinstance(grp_manifest_loaded, list):\n",
    "    grp_batches = grp_manifest_loaded\n",
    "else:\n",
    "    raise ValueError(\"Unexpected GRP manifest format. Expected dict with 'batches' or a list.\")\n",
    "\n",
    "ipca_files = sorted(\n",
    "    ipca_dir.glob(\"ipca_batch_*.joblib\"),\n",
    "    key=lambda p: int(re.findall(r\"(\\d+)\", p.stem)[-1])\n",
    ")\n",
    "fd_files = sorted(\n",
    "    fd_dir.glob(\"fd_batch_*.joblib\"),\n",
    "    key=lambda p: int(re.findall(r\"(\\d+)\", p.stem)[-1])\n",
    ")\n",
    "\n",
    "n_batches = len(stream_batches_txn_ids)\n",
    "if not (len(ipca_files) >= n_batches and len(fd_files) >= n_batches and len(grp_batches) >= n_batches):\n",
    "    raise RuntimeError(\n",
    "        f\"Artifacts count mismatch: batches={n_batches}, \"\n",
    "        f\"GRP files={len(grp_batches)}, IPCA files={len(ipca_files)}, FD files={len(fd_files)}\"\n",
    "    )\n",
    "\n",
    "def frobenius_sq_sparse(Xb_csr) -> float:\n",
    "    return float((Xb_csr.multiply(Xb_csr)).sum())\n",
    "\n",
    "records = []\n",
    "\n",
    "for b_idx in range(1, n_batches + 1):\n",
    "    txn_ids = stream_batches_txn_ids[b_idx - 1]\n",
    "    Xb = X[txn_ids, :]  # CSR\n",
    "    if not sparse.isspmatrix_csr(Xb):\n",
    "        Xb = sparse.csr_matrix(Xb)\n",
    "    n_b, d = Xb.shape\n",
    "\n",
    "    E_unc_sq = frobenius_sq_sparse(Xb)\n",
    "    E_unc = np.sqrt(E_unc_sq)\n",
    "\n",
    "\n",
    "    grp_batch_path = Path(grp_batches[b_idx - 1][\"file\"])\n",
    "    grp_payload = joblib.load(grp_batch_path)\n",
    "    Y = grp_payload[\"Y_batch\"].astype(np.float64, copy=False)  # (n_b × k)\n",
    "    S = Y.T @ Y                                                # (k × k)\n",
    "    E_grp_pres_sq = float(np.trace(RtR_inv @ S))               # preserved energy\n",
    "    EVR_grp = (E_grp_pres_sq / E_unc_sq) if E_unc_sq > 0 else 0.0\n",
    "    RE_grp = 1.0 - EVR_grp\n",
    "\n",
    "    records.append({\n",
    "        \"batch_id\": b_idx,\n",
    "        \"method\": \"GRP\",\n",
    "        \"n_samples\": n_b,\n",
    "        \"n_features\": d,\n",
    "        \"fro_norm\": E_unc,\n",
    "        \"explained_variance_ratio\": EVR_grp,\n",
    "        \"reconstruction_error\": RE_grp,\n",
    "    })\n",
    "\n",
    "    ipca_payload = joblib.load(ipca_files[b_idx - 1])\n",
    "    mu_b = ipca_payload[\"mean_batch\"].astype(np.float64, copy=False)   # (d,)\n",
    "    V    = ipca_payload[\"components\"].astype(np.float64, copy=False)   # (d × r), orthonormal columns if r>0\n",
    "    r = V.shape[1]\n",
    "\n",
    "\n",
    "    mu_norm_sq = float(mu_b @ mu_b)\n",
    "    E_centered_total_sq = max(E_unc_sq - n_b * mu_norm_sq, 0.0)\n",
    "    E_centered_total = np.sqrt(E_centered_total_sq)\n",
    "\n",
    "    if r > 0:\n",
    "        XbV = Xb @ V                         # (n_b × r)\n",
    "        muV = mu_b @ V                       # (r,)\n",
    "        T = XbV - np.outer(np.ones(n_b, dtype=np.float64), muV)\n",
    "        E_ipca_pres_sq = float((T * T).sum())\n",
    "        EVR_ipca = (E_ipca_pres_sq / E_centered_total_sq) if E_centered_total_sq > 0 else 0.0\n",
    "        RE_ipca = 1.0 - EVR_ipca\n",
    "    else:\n",
    "        EVR_ipca = 0.0\n",
    "        RE_ipca = 1.0\n",
    "\n",
    "    records.append({\n",
    "        \"batch_id\": b_idx,\n",
    "        \"method\": \"IPCA\",\n",
    "        \"n_samples\": n_b,\n",
    "        \"n_features\": d,\n",
    "        \"fro_norm\": E_centered_total,\n",
    "        \"explained_variance_ratio\": EVR_ipca,\n",
    "        \"reconstruction_error\": RE_ipca,\n",
    "    })\n",
    "\n",
    "\n",
    "    fd_payload = joblib.load(fd_files[b_idx - 1])\n",
    "    B = fd_payload[\"B\"].astype(np.float64, copy=False)               # (ell × d)\n",
    "\n",
    "    Ub, sb, Vt_b = np.linalg.svd(B, full_matrices=False)\n",
    "    Vb = Vt_b.T                                                      # (d × ell)\n",
    "\n",
    "\n",
    "    XbVb = Xb @ Vb                                                   # (n_b × ell)\n",
    "    E_fd_pres_sq = float((XbVb * XbVb).sum())\n",
    "    EVR_fd = (E_fd_pres_sq / E_unc_sq) if E_unc_sq > 0 else 0.0\n",
    "    RE_fd  = 1.0 - EVR_fd\n",
    "\n",
    "    records.append({\n",
    "        \"batch_id\": b_idx,\n",
    "        \"method\": \"FD\",\n",
    "        \"n_samples\": n_b,\n",
    "        \"n_features\": d,\n",
    "        \"fro_norm\": E_unc,\n",
    "        \"explained_variance_ratio\": EVR_fd,\n",
    "        \"reconstruction_error\": RE_fd,\n",
    "    })\n"
   ]
  },
  {
   "cell_type": "code",
   "execution_count": 38,
   "id": "ef2916d4",
   "metadata": {},
   "outputs": [
    {
     "name": "stdout",
     "output_type": "stream",
     "text": [
      "\n",
      "=== Step 5 — Per-batch metrics (Frobenius, EVR, Reconstruction Error) ===\n",
      " batch_id method  n_samples  n_features   fro_norm  explained_variance_ratio  reconstruction_error\n",
      "        1     FD        976        3665 134.914788                  0.544488              0.455512\n",
      "        1    GRP        976        3665 134.914788                  0.069464              0.930536\n",
      "        1   IPCA        976        3665 133.155931                  0.356069              0.643931\n",
      "        2     FD        976        3665 137.025545                  0.523864              0.476136\n",
      "        2    GRP        976        3665 137.025545                  0.069925              0.930075\n",
      "        2   IPCA        976        3665 135.362128                  0.344290              0.655710\n",
      "        3     FD        976        3665 138.578498                  0.526862              0.473138\n",
      "        3    GRP        976        3665 138.578498                  0.069859              0.930141\n",
      "        3   IPCA        976        3665 136.777094                  0.351274              0.648726\n",
      "        4     FD        976        3665 141.155942                  0.529068              0.470932\n",
      "        4    GRP        976        3665 141.155942                  0.069666              0.930334\n",
      "        4   IPCA        976        3665 139.305063                  0.347765              0.652235\n",
      "        5     FD        976        3665 140.552481                  0.534101              0.465899\n",
      "        5    GRP        976        3665 140.552481                  0.069609              0.930391\n",
      "        5   IPCA        976        3665 138.708464                  0.353882              0.646118\n",
      "        6     FD        976        3665 136.436799                  0.525416              0.474584\n",
      "        6    GRP        976        3665 136.436799                  0.069998              0.930002\n",
      "        6   IPCA        976        3665 134.642556                  0.347759              0.652241\n",
      "        7     FD        976        3665 132.988721                  0.543923              0.456077\n",
      "        7    GRP        976        3665 132.988721                  0.069985              0.930015\n",
      "        7   IPCA        976        3665 131.118127                  0.362374              0.637626\n",
      "        8     FD        976        3665 133.929086                  0.551262              0.448738\n",
      "        8    GRP        976        3665 133.929086                  0.069761              0.930239\n",
      "        8   IPCA        976        3665 132.066865                  0.370017              0.629983\n",
      "        9     FD        976        3665 136.565003                  0.545613              0.454387\n",
      "        9    GRP        976        3665 136.565003                  0.070374              0.929626\n",
      "        9   IPCA        976        3665 134.769536                  0.359599              0.640401\n",
      "       10     FD        976        3665 140.078549                  0.527119              0.472881\n",
      "       10    GRP        976        3665 140.078549                  0.070153              0.929847\n",
      "       10   IPCA        976        3665 138.243474                  0.348353              0.651647\n",
      "       11     FD        976        3665 139.835618                  0.547521              0.452479\n",
      "       11    GRP        976        3665 139.835618                  0.069460              0.930540\n",
      "       11   IPCA        976        3665 137.925244                  0.370736              0.629264\n",
      "       12     FD        976        3665 140.794176                  0.541367              0.458633\n",
      "       12    GRP        976        3665 140.794176                  0.069457              0.930543\n",
      "       12   IPCA        976        3665 138.997667                  0.364892              0.635108\n",
      "       13     FD        976        3665 150.512458                  0.541874              0.458126\n",
      "       13    GRP        976        3665 150.512458                  0.069912              0.930088\n",
      "       13   IPCA        976        3665 148.497737                  0.364814              0.635186\n",
      "       14     FD        976        3665 152.771071                  0.538023              0.461977\n",
      "       14    GRP        976        3665 152.771071                  0.069329              0.930671\n",
      "       14   IPCA        976        3665 150.785005                  0.358940              0.641060\n",
      "       15     FD        976        3665 156.888495                  0.536042              0.463958\n",
      "       15    GRP        976        3665 156.888495                  0.069785              0.930215\n",
      "       15   IPCA        976        3665 154.942229                  0.359667              0.640333\n",
      "       16     FD        976        3665 152.180814                  0.530273              0.469727\n",
      "       16    GRP        976        3665 152.180814                  0.069995              0.930005\n",
      "       16   IPCA        976        3665 150.174901                  0.350388              0.649612\n",
      "       17     FD        976        3665 149.913308                  0.550835              0.449165\n",
      "       17    GRP        976        3665 149.913308                  0.069756              0.930244\n",
      "       17   IPCA        976        3665 147.885063                  0.363442              0.636558\n",
      "       18     FD        976        3665 151.973682                  0.541434              0.458566\n",
      "       18    GRP        976        3665 151.973682                  0.070059              0.929941\n",
      "       18   IPCA        976        3665 149.941280                  0.364587              0.635413\n",
      "       19     FD        968        3665 144.187378                  0.553833              0.446167\n",
      "       19    GRP        968        3665 144.187378                  0.070234              0.929766\n",
      "       19   IPCA        968        3665 142.409062                  0.372323              0.627677\n",
      "\n",
      " Metrics saved to: artifacts/step5_metrics.csv\n"
     ]
    }
   ],
   "source": [
    "df_metrics = pd.DataFrame.from_records(records).sort_values([\"batch_id\", \"method\"])\n",
    "print(\"\\n=== Step 5 — Per-batch metrics (Frobenius, EVR, Reconstruction Error) ===\")\n",
    "print(df_metrics.to_string(index=False))\n",
    "\n",
    "out_csv = Path(\"artifacts/step5_metrics.csv\")\n",
    "out_csv.parent.mkdir(parents=True, exist_ok=True)\n",
    "df_metrics.to_csv(out_csv, index=False)\n",
    "print(f\"\\n Metrics saved to: {out_csv}\")"
   ]
  },
  {
   "cell_type": "code",
   "execution_count": 39,
   "id": "87f43f4a",
   "metadata": {},
   "outputs": [],
   "source": [
    "# Step 6 — Visualization of Temporal Metric Evolution\n",
    "import matplotlib.pyplot as plt\n"
   ]
  },
  {
   "cell_type": "code",
   "execution_count": 40,
   "id": "c96898cc",
   "metadata": {},
   "outputs": [],
   "source": [
    "# Load metrics\n",
    "metrics_path = Path(\"artifacts/step5_metrics.csv\")\n",
    "df = pd.read_csv(metrics_path)\n",
    "df = df.sort_values([\"method\", \"batch_id\"])\n",
    "\n",
    "# Style setup\n",
    "plt.style.use(\"seaborn-v0_8-whitegrid\")\n",
    "font = {\"family\": \"DejaVu Sans\", \"size\": 12}\n",
    "\n",
    "# Define line styles manually for clarity\n",
    "styles = {\n",
    "    \"FD\":   {\"color\": \"blue\",  \"marker\": \"o\", \"linestyle\": \"-\"},\n",
    "    \"GRP\":  {\"color\": \"orange\",\"marker\": \"s\", \"linestyle\": \"--\"},\n",
    "    \"IPCA\": {\"color\": \"green\", \"marker\": \"^\", \"linestyle\": \"-.\"},\n",
    "}\n"
   ]
  },
  {
   "cell_type": "code",
   "execution_count": 41,
   "id": "c5433007",
   "metadata": {},
   "outputs": [
    {
     "data": {
      "image/png": "[encoded data removed]",
      "text/plain": [
       "<Figure size 800x500 with 1 Axes>"
      ]
     },
     "metadata": {},
     "output_type": "display_data"
    }
   ],
   "source": [
    "#Frobenius Norm\n",
    "plt.figure(figsize=(8, 5))\n",
    "for method, group in df.groupby(\"method\"):\n",
    "    plt.plot(group[\"batch_id\"], group[\"fro_norm\"], \n",
    "             label=method, linewidth=2,\n",
    "             color=styles[method][\"color\"],\n",
    "             marker=styles[method][\"marker\"],\n",
    "             linestyle=styles[method][\"linestyle\"])\n",
    "\n",
    "plt.title(\"Frobenius Norm Over Time (Per Algorithm)\", fontdict=font)\n",
    "plt.xlabel(\"Batch ID\", fontdict=font)\n",
    "plt.ylabel(\"Frobenius Norm\", fontdict=font)\n",
    "plt.legend(title=\"Algorithm\", fontsize=11)\n",
    "plt.tight_layout()\n",
    "plt.show()"
   ]
  },
  {
   "cell_type": "code",
   "execution_count": 42,
   "id": "4e0ffe62",
   "metadata": {},
   "outputs": [
    {
     "data": {
      "image/png": "[encoded data removed]",
      "text/plain": [
       "<Figure size 800x500 with 1 Axes>"
      ]
     },
     "metadata": {},
     "output_type": "display_data"
    }
   ],
   "source": [
    "# Explained Variance Ratio \n",
    "plt.figure(figsize=(8, 5))\n",
    "for method, group in df.groupby(\"method\"):\n",
    "    plt.plot(group[\"batch_id\"], group[\"explained_variance_ratio\"],\n",
    "             label=method, linewidth=2,\n",
    "             color=styles[method][\"color\"],\n",
    "             marker=styles[method][\"marker\"],\n",
    "             linestyle=styles[method][\"linestyle\"])\n",
    "\n",
    "plt.title(\"Explained Variance Ratio Over Time\", fontdict=font)\n",
    "plt.xlabel(\"Batch ID\", fontdict=font)\n",
    "plt.ylabel(\"Explained Variance Ratio (EVR)\", fontdict=font)\n",
    "plt.legend(title=\"Algorithm\", fontsize=11)\n",
    "plt.tight_layout()\n",
    "plt.show()"
   ]
  },
  {
   "cell_type": "code",
   "execution_count": 43,
   "id": "ab28b945",
   "metadata": {},
   "outputs": [
    {
     "data": {
      "image/png": "[encoded data removed]",
      "text/plain": [
       "<Figure size 800x500 with 1 Axes>"
      ]
     },
     "metadata": {},
     "output_type": "display_data"
    }
   ],
   "source": [
    "#Reconstruction Error\n",
    "plt.figure(figsize=(8, 5))\n",
    "for method, group in df.groupby(\"method\"):\n",
    "    plt.plot(group[\"batch_id\"], group[\"reconstruction_error\"],\n",
    "             label=method, linewidth=2,\n",
    "             color=styles[method][\"color\"],\n",
    "             marker=styles[method][\"marker\"],\n",
    "             linestyle=styles[method][\"linestyle\"])\n",
    "\n",
    "plt.title(\"Reconstruction Error Over Time\", fontdict=font)\n",
    "plt.xlabel(\"Batch ID\", fontdict=font)\n",
    "plt.ylabel(\"Reconstruction Error\", fontdict=font)\n",
    "plt.legend(title=\"Algorithm\", fontsize=11)\n",
    "plt.tight_layout()\n",
    "plt.show()"
   ]
  },
  {
   "cell_type": "code",
   "execution_count": 44,
   "id": "8f37dbf7",
   "metadata": {},
   "outputs": [],
   "source": [
    "# Step 7 — Frequent Pattern Mining on original vs. sketched/reconstructed data\n",
    "# Mine frequent itemsets per batch on:\n",
    "#   1) ORIGINAL X\n",
    "#   2) RECONSTRUCTIONS from GRP/IPCA/FD (X @ V @ V^T), then binarize per row (adaptive top-k)\n",
    "# Compare speed and accuracy (top-N Jaccard, support MAE).\n",
    "\n",
    "from pathlib import Path\n",
    "import time\n",
    "import re\n",
    "import numpy as np\n",
    "import pandas as pd\n",
    "from scipy import sparse\n",
    "import joblib\n",
    "\n",
    "MIN_SUPPORT       = 0.02          # minimum support per batch\n",
    "MAX_ITEMSET_LEN   = 3             # up to 3-itemsets\n",
    "TOP_N_COMPARE     = 50            # compare top-N itemsets\n",
    "ALGO              = \"fpgrowth\"    # \"fpgrowth\" or \"apriori\" (alias \"fp_growth\" also accepted)\n",
    "\n",
    "from mlxtend.frequent_patterns import fpgrowth, apriori"
   ]
  },
  {
   "cell_type": "code",
   "execution_count": 45,
   "id": "f630145e",
   "metadata": {},
   "outputs": [],
   "source": [
    "d = X.shape[1]\n",
    "stock_labels = item_index_to_stockcode.reset_index(drop=True)  # (d,)\n"
   ]
  },
  {
   "cell_type": "code",
   "execution_count": 46,
   "id": "f7cb9e60",
   "metadata": {},
   "outputs": [],
   "source": [
    "grp_info = joblib.load(Path(\"artifacts/sketch_grp/grp_projection_matrix.joblib\"))\n",
    "R = grp_info[\"R\"].astype(np.float32, copy=False)     # (d × k)\n",
    "Q, _ = np.linalg.qr(R)                               # (d × k_orth)\n",
    "\n",
    "ipca_files = sorted(Path(\"artifacts/sketch_ipca\").glob(\"ipca_batch_*.joblib\"),\n",
    "                    key=lambda p: int(re.findall(r\"(\\d+)\", p.stem)[-1]))\n",
    "fd_files   = sorted(Path(\"artifacts/sketch_fd\").glob(\"fd_batch_*.joblib\"),\n",
    "                    key=lambda p: int(re.findall(r\"(\\d+)\", p.stem)[-1]))"
   ]
  },
  {
   "cell_type": "code",
   "execution_count": 47,
   "id": "fef7b2f5",
   "metadata": {},
   "outputs": [],
   "source": [
    "def csr_to_boolean_df(X_csr: sparse.csr_matrix, cols_keep: np.ndarray) -> pd.DataFrame:\n",
    "    X_sub = X_csr[:, cols_keep]\n",
    "    df_bool = pd.DataFrame.sparse.from_spmatrix(\n",
    "        X_sub.astype(bool),\n",
    "        index=None,\n",
    "        columns=stock_labels.iloc[cols_keep].to_list()\n",
    "    )\n",
    "    return df_bool.astype(bool)\n",
    "\n",
    "def mine_itemsets(df_bool: pd.DataFrame, min_support: float, max_len: int, algo: str) -> pd.DataFrame:\n",
    "    algo = algo.lower()\n",
    "    if algo in (\"fpgrowth\", \"fp_growth\"):\n",
    "        frq = fpgrowth(df_bool, min_support=min_support, use_colnames=True, max_len=max_len)\n",
    "    else:\n",
    "        frq = apriori(df_bool, min_support=min_support, use_colnames=True, max_len=max_len)\n",
    "    frq = frq.sort_values([\"support\", \"itemsets\"], ascending=[False, True], ignore_index=True)\n",
    "    return frq\n",
    "\n",
    "def topN_signature(frq: pd.DataFrame, N: int) -> list[tuple]:\n",
    "    sig = []\n",
    "    for s in frq.head(N)[\"itemsets\"]:\n",
    "        items = tuple(sorted(list(s)))\n",
    "        sig.append(items)\n",
    "    return sig\n",
    "\n",
    "def mae_on_common(frq_a: pd.DataFrame, frq_b: pd.DataFrame, N: int) -> float:\n",
    "    a_top = frq_a.head(N).set_index(frq_a.head(N)[\"itemsets\"].apply(lambda s: tuple(sorted(list(s)))))[\"support\"]\n",
    "    b_top = frq_b.head(N).set_index(frq_b.head(N)[\"itemsets\"].apply(lambda s: tuple(sorted(list(s)))))[\"support\"]\n",
    "    common = a_top.index.intersection(b_top.index)\n",
    "    if len(common) == 0:\n",
    "        return np.nan\n",
    "    return float(np.mean(np.abs(a_top.loc[common].values - b_top.loc[common].values)))\n",
    "\n",
    "def project_reconstruct_boolean(Xb: sparse.csr_matrix, V: np.ndarray, cols_present: np.ndarray) -> pd.DataFrame:\n",
    "    # Scores and reconstruction on present columns only\n",
    "    S = (Xb @ V)                         # (n_b × r)\n",
    "    V_sel = V[cols_present, :]           # (|cols_present| × r)\n",
    "    X_hat_sel = S @ V_sel.T              # (n_b × |cols_present|)\n",
    "\n",
    "    row_lengths = np.diff(Xb.indptr)\n",
    "    k_avg = int(max(1, round(float(np.mean(row_lengths)))))\n",
    "    n_b, m = X_hat_sel.shape\n",
    "\n",
    "    keep_mat = np.zeros_like(X_hat_sel, dtype=bool)\n",
    "    if m > 0:\n",
    "        k_eff = min(k_avg, m)\n",
    "        pos_mask = (X_hat_sel > 0)\n",
    "        for i in range(n_b):\n",
    "            row = X_hat_sel[i, :]\n",
    "            if pos_mask[i].any():\n",
    "                pos_idx = np.where(pos_mask[i])[0]\n",
    "                k_row = min(k_eff, pos_idx.size)\n",
    "                if k_row > 0:\n",
    "                    top_idx = pos_idx[np.argpartition(row[pos_idx], -k_row)[-k_row:]]\n",
    "                    keep_mat[i, top_idx] = True\n",
    "            else:\n",
    "                top_idx = np.argpartition(row, -k_eff)[-k_eff:]\n",
    "                keep_mat[i, top_idx] = True\n",
    "\n",
    "    df_bool = pd.DataFrame(keep_mat, columns=stock_labels.iloc[cols_present].to_list()).astype(bool)\n",
    "    return df_bool\n"
   ]
  },
  {
   "cell_type": "code",
   "execution_count": 48,
   "id": "8cb39187",
   "metadata": {},
   "outputs": [
    {
     "name": "stdout",
     "output_type": "stream",
     "text": [
      "\n",
      "=== Batch 01 ===\n"
     ]
    },
    {
     "name": "stderr",
     "output_type": "stream",
     "text": [
      "/tmp/ipykernel_1436/4107343399.py:3: FutureWarning: Allowing arbitrary scalar fill_value in SparseDtype is deprecated. In a future version, the fill_value must be a valid value for the SparseDtype.subtype.\n",
      "  df_bool = pd.DataFrame.sparse.from_spmatrix(\n"
     ]
    },
    {
     "name": "stdout",
     "output_type": "stream",
     "text": [
      "[Original] items=2167, baskets=976, FIs=330 time=2.026s\n",
      "[GRP]      FIs=183 time=0.289s Jaccard=0.562 MAE=0.0217\n",
      "[IPCA]     FIs=3430 time=9.237s Jaccard=0.754 MAE=0.0780\n",
      "[FD]       FIs=1386 time=3.261s Jaccard=0.613 MAE=0.0422\n",
      "\n",
      "=== Batch 02 ===\n"
     ]
    },
    {
     "name": "stderr",
     "output_type": "stream",
     "text": [
      "/tmp/ipykernel_1436/4107343399.py:3: FutureWarning: Allowing arbitrary scalar fill_value in SparseDtype is deprecated. In a future version, the fill_value must be a valid value for the SparseDtype.subtype.\n",
      "  df_bool = pd.DataFrame.sparse.from_spmatrix(\n"
     ]
    },
    {
     "name": "stdout",
     "output_type": "stream",
     "text": [
      "[Original] items=2222, baskets=976, FIs=297 time=2.481s\n",
      "[GRP]      FIs=149 time=0.189s Jaccard=0.493 MAE=0.0179\n",
      "[IPCA]     FIs=2880 time=8.224s Jaccard=0.667 MAE=0.0772\n",
      "[FD]       FIs=1122 time=2.977s Jaccard=0.639 MAE=0.0394\n",
      "\n",
      "=== Batch 03 ===\n"
     ]
    },
    {
     "name": "stderr",
     "output_type": "stream",
     "text": [
      "/tmp/ipykernel_1436/4107343399.py:3: FutureWarning: Allowing arbitrary scalar fill_value in SparseDtype is deprecated. In a future version, the fill_value must be a valid value for the SparseDtype.subtype.\n",
      "  df_bool = pd.DataFrame.sparse.from_spmatrix(\n"
     ]
    },
    {
     "name": "stdout",
     "output_type": "stream",
     "text": [
      "[Original] items=2121, baskets=976, FIs=338 time=2.837s\n",
      "[GRP]      FIs=206 time=0.130s Jaccard=0.493 MAE=0.0202\n",
      "[IPCA]     FIs=3206 time=8.478s Jaccard=0.754 MAE=0.0786\n",
      "[FD]       FIs=1200 time=2.718s Jaccard=0.754 MAE=0.0361\n",
      "\n",
      "=== Batch 04 ===\n"
     ]
    },
    {
     "name": "stderr",
     "output_type": "stream",
     "text": [
      "/tmp/ipykernel_1436/4107343399.py:3: FutureWarning: Allowing arbitrary scalar fill_value in SparseDtype is deprecated. In a future version, the fill_value must be a valid value for the SparseDtype.subtype.\n",
      "  df_bool = pd.DataFrame.sparse.from_spmatrix(\n"
     ]
    },
    {
     "name": "stdout",
     "output_type": "stream",
     "text": [
      "[Original] items=2121, baskets=976, FIs=375 time=2.873s\n",
      "[GRP]      FIs=198 time=0.148s Jaccard=0.538 MAE=0.0213\n"
     ]
    },
    {
     "name": "stdout",
     "output_type": "stream",
     "text": [
      "[IPCA]     FIs=2893 time=9.416s Jaccard=0.754 MAE=0.0667\n",
      "[FD]       FIs=984 time=2.108s Jaccard=0.724 MAE=0.0346\n",
      "\n",
      "=== Batch 05 ===\n"
     ]
    },
    {
     "name": "stderr",
     "output_type": "stream",
     "text": [
      "/tmp/ipykernel_1436/4107343399.py:3: FutureWarning: Allowing arbitrary scalar fill_value in SparseDtype is deprecated. In a future version, the fill_value must be a valid value for the SparseDtype.subtype.\n",
      "  df_bool = pd.DataFrame.sparse.from_spmatrix(\n"
     ]
    },
    {
     "name": "stdout",
     "output_type": "stream",
     "text": [
      "[Original] items=2083, baskets=976, FIs=395 time=3.207s\n",
      "[GRP]      FIs=198 time=0.186s Jaccard=0.562 MAE=0.0207\n",
      "[IPCA]     FIs=2978 time=8.626s Jaccard=0.639 MAE=0.0768\n",
      "[FD]       FIs=1339 time=3.047s Jaccard=0.695 MAE=0.0360\n",
      "\n",
      "=== Batch 06 ===\n"
     ]
    },
    {
     "name": "stderr",
     "output_type": "stream",
     "text": [
      "/tmp/ipykernel_1436/4107343399.py:3: FutureWarning: Allowing arbitrary scalar fill_value in SparseDtype is deprecated. In a future version, the fill_value must be a valid value for the SparseDtype.subtype.\n",
      "  df_bool = pd.DataFrame.sparse.from_spmatrix(\n"
     ]
    },
    {
     "name": "stdout",
     "output_type": "stream",
     "text": [
      "[Original] items=2146, baskets=976, FIs=360 time=2.660s\n",
      "[GRP]      FIs=185 time=0.144s Jaccard=0.538 MAE=0.0195\n",
      "[IPCA]     FIs=2318 time=7.387s Jaccard=0.724 MAE=0.0712\n",
      "[FD]       FIs=899 time=2.598s Jaccard=0.754 MAE=0.0337\n",
      "\n",
      "=== Batch 07 ===\n"
     ]
    },
    {
     "name": "stderr",
     "output_type": "stream",
     "text": [
      "/tmp/ipykernel_1436/4107343399.py:3: FutureWarning: Allowing arbitrary scalar fill_value in SparseDtype is deprecated. In a future version, the fill_value must be a valid value for the SparseDtype.subtype.\n",
      "  df_bool = pd.DataFrame.sparse.from_spmatrix(\n"
     ]
    },
    {
     "name": "stdout",
     "output_type": "stream",
     "text": [
      "[Original] items=2009, baskets=976, FIs=402 time=3.491s\n",
      "[GRP]      FIs=173 time=0.168s Jaccard=0.515 MAE=0.0217\n",
      "[IPCA]     FIs=2409 time=7.514s Jaccard=0.667 MAE=0.0722\n",
      "[FD]       FIs=885 time=2.549s Jaccard=0.639 MAE=0.0316\n",
      "\n",
      "=== Batch 08 ===\n"
     ]
    },
    {
     "name": "stderr",
     "output_type": "stream",
     "text": [
      "/tmp/ipykernel_1436/4107343399.py:3: FutureWarning: Allowing arbitrary scalar fill_value in SparseDtype is deprecated. In a future version, the fill_value must be a valid value for the SparseDtype.subtype.\n",
      "  df_bool = pd.DataFrame.sparse.from_spmatrix(\n"
     ]
    },
    {
     "name": "stdout",
     "output_type": "stream",
     "text": [
      "[Original] items=2084, baskets=976, FIs=448 time=2.781s\n",
      "[GRP]      FIs=170 time=0.129s Jaccard=0.667 MAE=0.0235\n",
      "[IPCA]     FIs=2618 time=7.674s Jaccard=0.639 MAE=0.0717\n",
      "[FD]       FIs=1112 time=2.590s Jaccard=0.754 MAE=0.0313\n",
      "\n",
      "=== Batch 09 ===\n"
     ]
    },
    {
     "name": "stderr",
     "output_type": "stream",
     "text": [
      "/tmp/ipykernel_1436/4107343399.py:3: FutureWarning: Allowing arbitrary scalar fill_value in SparseDtype is deprecated. In a future version, the fill_value must be a valid value for the SparseDtype.subtype.\n",
      "  df_bool = pd.DataFrame.sparse.from_spmatrix(\n"
     ]
    },
    {
     "name": "stdout",
     "output_type": "stream",
     "text": [
      "[Original] items=2153, baskets=976, FIs=411 time=3.695s\n",
      "[GRP]      FIs=158 time=0.145s Jaccard=0.515 MAE=0.0226\n",
      "[IPCA]     FIs=2844 time=7.966s Jaccard=0.639 MAE=0.0761\n",
      "[FD]       FIs=1272 time=3.269s Jaccard=0.724 MAE=0.0355\n",
      "\n",
      "=== Batch 10 ===\n"
     ]
    },
    {
     "name": "stderr",
     "output_type": "stream",
     "text": [
      "/tmp/ipykernel_1436/4107343399.py:3: FutureWarning: Allowing arbitrary scalar fill_value in SparseDtype is deprecated. In a future version, the fill_value must be a valid value for the SparseDtype.subtype.\n",
      "  df_bool = pd.DataFrame.sparse.from_spmatrix(\n"
     ]
    },
    {
     "name": "stdout",
     "output_type": "stream",
     "text": [
      "[Original] items=2251, baskets=976, FIs=521 time=4.734s\n",
      "[GRP]      FIs=161 time=0.122s Jaccard=0.587 MAE=0.0255\n",
      "[IPCA]     FIs=3264 time=8.834s Jaccard=0.695 MAE=0.0760\n",
      "[FD]       FIs=1618 time=4.705s Jaccard=0.754 MAE=0.0375\n",
      "\n",
      "=== Batch 11 ===\n"
     ]
    },
    {
     "name": "stderr",
     "output_type": "stream",
     "text": [
      "/tmp/ipykernel_1436/4107343399.py:3: FutureWarning: Allowing arbitrary scalar fill_value in SparseDtype is deprecated. In a future version, the fill_value must be a valid value for the SparseDtype.subtype.\n",
      "  df_bool = pd.DataFrame.sparse.from_spmatrix(\n"
     ]
    },
    {
     "name": "stdout",
     "output_type": "stream",
     "text": [
      "[Original] items=2166, baskets=976, FIs=531 time=5.183s\n",
      "[GRP]      FIs=158 time=0.154s Jaccard=0.562 MAE=0.0235\n",
      "[IPCA]     FIs=3744 time=10.289s Jaccard=0.639 MAE=0.0819\n",
      "[FD]       FIs=1579 time=3.813s Jaccard=0.639 MAE=0.0362\n",
      "\n",
      "=== Batch 12 ===\n"
     ]
    },
    {
     "name": "stderr",
     "output_type": "stream",
     "text": [
      "/tmp/ipykernel_1436/4107343399.py:3: FutureWarning: Allowing arbitrary scalar fill_value in SparseDtype is deprecated. In a future version, the fill_value must be a valid value for the SparseDtype.subtype.\n",
      "  df_bool = pd.DataFrame.sparse.from_spmatrix(\n"
     ]
    },
    {
     "name": "stdout",
     "output_type": "stream",
     "text": [
      "[Original] items=2253, baskets=976, FIs=664 time=5.614s\n",
      "[GRP]      FIs=161 time=0.183s Jaccard=0.515 MAE=0.0257\n",
      "[IPCA]     FIs=4040 time=11.184s Jaccard=0.613 MAE=0.0721\n",
      "[FD]       FIs=1903 time=5.095s Jaccard=0.639 MAE=0.0373\n",
      "\n",
      "=== Batch 13 ===\n"
     ]
    },
    {
     "name": "stderr",
     "output_type": "stream",
     "text": [
      "/tmp/ipykernel_1436/4107343399.py:3: FutureWarning: Allowing arbitrary scalar fill_value in SparseDtype is deprecated. In a future version, the fill_value must be a valid value for the SparseDtype.subtype.\n",
      "  df_bool = pd.DataFrame.sparse.from_spmatrix(\n"
     ]
    },
    {
     "name": "stdout",
     "output_type": "stream",
     "text": [
      "[Original] items=2257, baskets=976, FIs=512 time=3.938s\n",
      "[GRP]      FIs=243 time=0.322s Jaccard=0.538 MAE=0.0203\n",
      "[IPCA]     FIs=5460 time=15.960s Jaccard=0.613 MAE=0.0777\n",
      "[FD]       FIs=2415 time=6.248s Jaccard=0.639 MAE=0.0415\n",
      "\n",
      "=== Batch 14 ===\n"
     ]
    },
    {
     "name": "stderr",
     "output_type": "stream",
     "text": [
      "/tmp/ipykernel_1436/4107343399.py:3: FutureWarning: Allowing arbitrary scalar fill_value in SparseDtype is deprecated. In a future version, the fill_value must be a valid value for the SparseDtype.subtype.\n",
      "  df_bool = pd.DataFrame.sparse.from_spmatrix(\n"
     ]
    },
    {
     "name": "stdout",
     "output_type": "stream",
     "text": [
      "[Original] items=2372, baskets=976, FIs=477 time=4.101s\n",
      "[GRP]      FIs=250 time=0.250s Jaccard=0.538 MAE=0.0201\n",
      "[IPCA]     FIs=5929 time=16.654s Jaccard=0.613 MAE=0.0806\n",
      "[FD]       FIs=2106 time=3.776s Jaccard=0.667 MAE=0.0438\n",
      "\n",
      "=== Batch 15 ===\n"
     ]
    },
    {
     "name": "stderr",
     "output_type": "stream",
     "text": [
      "/tmp/ipykernel_1436/4107343399.py:3: FutureWarning: Allowing arbitrary scalar fill_value in SparseDtype is deprecated. In a future version, the fill_value must be a valid value for the SparseDtype.subtype.\n",
      "  df_bool = pd.DataFrame.sparse.from_spmatrix(\n"
     ]
    },
    {
     "name": "stdout",
     "output_type": "stream",
     "text": [
      "[Original] items=2429, baskets=976, FIs=464 time=2.875s\n",
      "[GRP]      FIs=248 time=0.197s Jaccard=0.408 MAE=0.0224\n",
      "[IPCA]     FIs=6365 time=12.165s Jaccard=0.639 MAE=0.0889\n",
      "[FD]       FIs=2177 time=3.756s Jaccard=0.613 MAE=0.0462\n",
      "\n",
      "=== Batch 16 ===\n"
     ]
    },
    {
     "name": "stderr",
     "output_type": "stream",
     "text": [
      "/tmp/ipykernel_1436/4107343399.py:3: FutureWarning: Allowing arbitrary scalar fill_value in SparseDtype is deprecated. In a future version, the fill_value must be a valid value for the SparseDtype.subtype.\n",
      "  df_bool = pd.DataFrame.sparse.from_spmatrix(\n"
     ]
    },
    {
     "name": "stdout",
     "output_type": "stream",
     "text": [
      "[Original] items=2326, baskets=976, FIs=404 time=2.336s\n",
      "[GRP]      FIs=232 time=0.128s Jaccard=0.493 MAE=0.0205\n",
      "[IPCA]     FIs=4703 time=8.899s Jaccard=0.724 MAE=0.0892\n",
      "[FD]       FIs=1645 time=2.743s Jaccard=0.724 MAE=0.0502\n",
      "\n",
      "=== Batch 17 ===\n"
     ]
    },
    {
     "name": "stderr",
     "output_type": "stream",
     "text": [
      "/tmp/ipykernel_1436/4107343399.py:3: FutureWarning: Allowing arbitrary scalar fill_value in SparseDtype is deprecated. In a future version, the fill_value must be a valid value for the SparseDtype.subtype.\n",
      "  df_bool = pd.DataFrame.sparse.from_spmatrix(\n"
     ]
    },
    {
     "name": "stdout",
     "output_type": "stream",
     "text": [
      "[Original] items=2332, baskets=976, FIs=442 time=2.451s\n",
      "[GRP]      FIs=222 time=0.134s Jaccard=0.408 MAE=0.0234\n",
      "[IPCA]     FIs=5670 time=11.110s Jaccard=0.639 MAE=0.0871\n",
      "[FD]       FIs=2471 time=4.440s Jaccard=0.667 MAE=0.0470\n",
      "\n",
      "=== Batch 18 ===\n"
     ]
    },
    {
     "name": "stderr",
     "output_type": "stream",
     "text": [
      "/tmp/ipykernel_1436/4107343399.py:3: FutureWarning: Allowing arbitrary scalar fill_value in SparseDtype is deprecated. In a future version, the fill_value must be a valid value for the SparseDtype.subtype.\n",
      "  df_bool = pd.DataFrame.sparse.from_spmatrix(\n"
     ]
    },
    {
     "name": "stdout",
     "output_type": "stream",
     "text": [
      "[Original] items=2326, baskets=976, FIs=431 time=2.897s\n",
      "[GRP]      FIs=242 time=0.145s Jaccard=0.515 MAE=0.0218\n",
      "[IPCA]     FIs=5027 time=9.692s Jaccard=0.667 MAE=0.0946\n",
      "[FD]       FIs=1896 time=3.291s Jaccard=0.724 MAE=0.0501\n",
      "\n",
      "=== Batch 19 ===\n"
     ]
    },
    {
     "name": "stderr",
     "output_type": "stream",
     "text": [
      "/tmp/ipykernel_1436/4107343399.py:3: FutureWarning: Allowing arbitrary scalar fill_value in SparseDtype is deprecated. In a future version, the fill_value must be a valid value for the SparseDtype.subtype.\n",
      "  df_bool = pd.DataFrame.sparse.from_spmatrix(\n"
     ]
    },
    {
     "name": "stdout",
     "output_type": "stream",
     "text": [
      "[Original] items=2251, baskets=968, FIs=352 time=2.091s\n",
      "[GRP]      FIs=174 time=0.133s Jaccard=0.515 MAE=0.0183\n",
      "[IPCA]     FIs=4226 time=8.023s Jaccard=0.639 MAE=0.0784\n",
      "[FD]       FIs=1655 time=2.814s Jaccard=0.695 MAE=0.0455\n"
     ]
    }
   ],
   "source": [
    "results_summary = []\n",
    "out_dir = Path(\"artifacts/step7_fpm\")\n",
    "out_dir.mkdir(parents=True, exist_ok=True)\n",
    "\n",
    "for b_idx, txn_ids in enumerate(stream_batches_txn_ids, start=1):\n",
    "    print(f\"\\n=== Batch {b_idx:02d} ===\")\n",
    "    Xb = X[txn_ids, :]\n",
    "    if not sparse.isspmatrix_csr(Xb):\n",
    "        Xb = sparse.csr_matrix(Xb)\n",
    "\n",
    "    cols_present = np.unique(Xb.indices)\n",
    "\n",
    "    #Original\n",
    "    t0 = time.perf_counter()\n",
    "    df_orig = csr_to_boolean_df(Xb, cols_present)\n",
    "    frq_orig = mine_itemsets(df_orig, MIN_SUPPORT, MAX_ITEMSET_LEN, ALGO)\n",
    "    t_orig = time.perf_counter() - t0\n",
    "    print(f\"[Original] items={len(cols_present)}, baskets={Xb.shape[0]}, FIs={len(frq_orig)} time={t_orig:.3f}s\")\n",
    "\n",
    "    #GRP\n",
    "    t0 = time.perf_counter()\n",
    "    df_grp = project_reconstruct_boolean(Xb, Q, cols_present)\n",
    "    frq_grp = mine_itemsets(df_grp, MIN_SUPPORT, MAX_ITEMSET_LEN, ALGO)\n",
    "    t_grp = time.perf_counter() - t0\n",
    "    sig_o, sig_g = set(topN_signature(frq_orig, TOP_N_COMPARE)), set(topN_signature(frq_grp, TOP_N_COMPARE))\n",
    "    jacc_grp = (len(sig_o & sig_g) / max(1, len(sig_o | sig_g)))\n",
    "    mae_grp  = mae_on_common(frq_orig, frq_grp, TOP_N_COMPARE)\n",
    "    print(f\"[GRP]      FIs={len(frq_grp)} time={t_grp:.3f}s Jaccard={jacc_grp:.3f} MAE={mae_grp:.4f}\")\n",
    "\n",
    "    #IPCA\n",
    "    ipca_payload = joblib.load(ipca_files[b_idx - 1])\n",
    "    V_ipca = ipca_payload[\"components\"].astype(np.float32, copy=False)   # (d × r)\n",
    "    t0 = time.perf_counter()\n",
    "    df_ipca = project_reconstruct_boolean(Xb, V_ipca, cols_present)\n",
    "    frq_ipca = mine_itemsets(df_ipca, MIN_SUPPORT, MAX_ITEMSET_LEN, ALGO)\n",
    "    t_ipca = time.perf_counter() - t0\n",
    "    sig_i = set(topN_signature(frq_ipca, TOP_N_COMPARE))\n",
    "    jacc_ipca = (len(sig_o & sig_i) / max(1, len(sig_o | sig_i)))\n",
    "    mae_ipca  = mae_on_common(frq_orig, frq_ipca, TOP_N_COMPARE)\n",
    "    print(f\"[IPCA]     FIs={len(frq_ipca)} time={t_ipca:.3f}s Jaccard={jacc_ipca:.3f} MAE={mae_ipca:.4f}\")\n",
    "\n",
    "    #FD\n",
    "    fd_payload = joblib.load(fd_files[b_idx - 1])\n",
    "    B_fd = fd_payload[\"B\"].astype(np.float32, copy=False)                # (ℓ × d)\n",
    "    _, _, Vt_fd = np.linalg.svd(B_fd, full_matrices=False)\n",
    "    V_fd = Vt_fd.T.astype(np.float32, copy=False)\n",
    "    t0 = time.perf_counter()\n",
    "    df_fd = project_reconstruct_boolean(Xb, V_fd, cols_present)\n",
    "    frq_fd = mine_itemsets(df_fd, MIN_SUPPORT, MAX_ITEMSET_LEN, ALGO)\n",
    "    t_fd = time.perf_counter() - t0\n",
    "    sig_f = set(topN_signature(frq_fd, TOP_N_COMPARE))\n",
    "    jacc_fd = (len(sig_o & sig_f) / max(1, len(sig_o | sig_f)))\n",
    "    mae_fd  = mae_on_common(frq_orig, frq_fd, TOP_N_COMPARE)\n",
    "    print(f\"[FD]       FIs={len(frq_fd)} time={t_fd:.3f}s Jaccard={jacc_fd:.3f} MAE={mae_fd:.4f}\")\n",
    "\n",
    "    out_dir.joinpath(f\"orig_batch_{b_idx:02d}.csv\").write_text(frq_orig.to_csv(index=False))\n",
    "    out_dir.joinpath(f\"grp_batch_{b_idx:02d}.csv\").write_text(frq_grp.to_csv(index=False))\n",
    "    out_dir.joinpath(f\"ipca_batch_{b_idx:02d}.csv\").write_text(frq_ipca.to_csv(index=False))\n",
    "    out_dir.joinpath(f\"fd_batch_{b_idx:02d}.csv\").write_text(frq_fd.to_csv(index=False))\n",
    "\n",
    "    results_summary.append({\n",
    "        \"batch_id\": b_idx,\n",
    "        \"orig_FIs\": len(frq_orig),\n",
    "        \"grp_FIs\": len(frq_grp),\n",
    "        \"ipca_FIs\": len(frq_ipca),\n",
    "        \"fd_FIs\": len(frq_fd),\n",
    "        \"time_orig_s\": t_orig,\n",
    "        \"time_grp_s\": t_grp,\n",
    "        \"time_ipca_s\": t_ipca,\n",
    "        \"time_fd_s\": t_fd,\n",
    "        \"jaccard_grp\": jacc_grp,\n",
    "        \"jaccard_ipca\": jacc_ipca,\n",
    "        \"jaccard_fd\": jacc_fd,\n",
    "        \"mae_grp\": mae_grp,\n",
    "        \"mae_ipca\": mae_ipca,\n",
    "        \"mae_fd\": mae_fd,\n",
    "    })"
   ]
  },
  {
   "cell_type": "code",
   "execution_count": 49,
   "id": "64b16759",
   "metadata": {},
   "outputs": [
    {
     "name": "stdout",
     "output_type": "stream",
     "text": [
      "\n",
      "=== Step 7 Summary (per-batch) ===\n",
      " batch_id  orig_FIs  grp_FIs  ipca_FIs  fd_FIs  time_orig_s  time_grp_s  time_ipca_s  time_fd_s  jaccard_grp  jaccard_ipca  jaccard_fd  mae_grp  mae_ipca   mae_fd\n",
      "        1       330      183      3430    1386     2.025798    0.288588     9.237319   3.261274     0.562500      0.754386    0.612903 0.021744  0.078036 0.042170\n",
      "        2       297      149      2880    1122     2.481413    0.189033     8.223870   2.977182     0.492537      0.666667    0.639344 0.017884  0.077228 0.039381\n",
      "        3       338      206      3206    1200     2.836697    0.129864     8.478223   2.718042     0.492537      0.754386    0.754386 0.020181  0.078631 0.036123\n",
      "        4       375      198      2893     984     2.873496    0.147709     9.415769   2.108333     0.538462      0.754386    0.724138 0.021311  0.066741 0.034568\n",
      "        5       395      198      2978    1339     3.207063    0.185978     8.626230   3.047207     0.562500      0.639344    0.694915 0.020691  0.076765 0.036036\n",
      "        6       360      185      2318     899     2.660483    0.143784     7.387171   2.597517     0.538462      0.724138    0.754386 0.019526  0.071185 0.033716\n",
      "        7       402      173      2409     885     3.491328    0.168315     7.514464   2.549127     0.515152      0.666667    0.639344 0.021697  0.072157 0.031631\n",
      "        8       448      170      2618    1112     2.780955    0.128527     7.674285   2.589516     0.666667      0.639344    0.754386 0.023463  0.071669 0.031333\n",
      "        9       411      158      2844    1272     3.694902    0.145153     7.965874   3.269199     0.515152      0.639344    0.724138 0.022571  0.076135 0.035519\n",
      "       10       521      161      3264    1618     4.734313    0.121609     8.833653   4.705024     0.587302      0.694915    0.754386 0.025476  0.075995 0.037505\n",
      "       11       531      158      3744    1579     5.182872    0.154492    10.289324   3.812584     0.562500      0.639344    0.639344 0.023480  0.081888 0.036228\n",
      "       12       664      161      4040    1903     5.613747    0.183173    11.184048   5.095244     0.515152      0.612903    0.639344 0.025705  0.072126 0.037253\n",
      "       13       512      243      5460    2415     3.938373    0.322120    15.959854   6.248317     0.538462      0.612903    0.639344 0.020345  0.077707 0.041535\n",
      "       14       477      250      5929    2106     4.101226    0.249580    16.653858   3.776079     0.538462      0.612903    0.666667 0.020111  0.080592 0.043776\n",
      "       15       464      248      6365    2177     2.874512    0.197441    12.164913   3.755658     0.408451      0.639344    0.612903 0.022364  0.088903 0.046214\n",
      "       16       404      232      4703    1645     2.336055    0.127527     8.899218   2.742792     0.492537      0.724138    0.724138 0.020523  0.089213 0.050156\n",
      "       17       442      222      5670    2471     2.450988    0.133642    11.109672   4.440228     0.408451      0.639344    0.666667 0.023389  0.087116 0.046952\n",
      "       18       431      242      5027    1896     2.896686    0.145357     9.691863   3.291466     0.515152      0.666667    0.724138 0.021788  0.094570 0.050107\n",
      "       19       352      174      4226    1655     2.090964    0.133022     8.022873   2.814046     0.515152      0.639344    0.694915 0.018291  0.078380 0.045480\n",
      "\n",
      " Saved per-batch itemsets to: artifacts/step7_fpm (summary.csv)\n"
     ]
    }
   ],
   "source": [
    "df_summary = pd.DataFrame(results_summary)\n",
    "print(\"\\n=== Step 7 Summary (per-batch) ===\")\n",
    "print(df_summary.to_string(index=False))\n",
    "\n",
    "df_summary.to_csv(out_dir / \"summary.csv\", index=False)\n",
    "print(f\"\\n Saved per-batch itemsets to: {out_dir} (summary.csv)\")"
   ]
  },
  {
   "cell_type": "code",
   "execution_count": 50,
   "id": "c5827325",
   "metadata": {},
   "outputs": [],
   "source": [
    "# Step 8 — Anomaly Injection + Matrix Monitoring for abrupt change detection\n",
    "# What this does:\n",
    "# 1) Build a synthetic anomalous batch (Batch 20) with unusual co-occurrence patterns.\n",
    "# 2) Run sketching on the new batch only: GRP (with existing R), IPCA (per-batch), FD (per-batch).\n",
    "# 3) Compute monitoring metrics (Frobenius, EVR, Reconstruction Error) for Batch 20.\n",
    "# 4) Append metrics to the historical series and detect anomalies via simple z-scores.\n",
    "# 5) Plot time series with the anomalous batch highlighted."
   ]
  },
  {
   "cell_type": "code",
   "execution_count": 51,
   "id": "94eece87",
   "metadata": {},
   "outputs": [],
   "source": [
    "np.random.seed(1234)               # reproducible anomaly\n",
    "ANOMALY_TXN_COUNT = 300            # number of anomalous transactions in Batch 20\n",
    "ANOMALY_BASKET_MIN = 12            # larger-than-normal baskets\n",
    "ANOMALY_BASKET_MAX = 20\n",
    "RARE_ITEM_CUTOFF = 0.01            # define \"rare\" items by global support < 1%\n"
   ]
  },
  {
   "cell_type": "code",
   "execution_count": 52,
   "id": "f912af0d",
   "metadata": {},
   "outputs": [
    {
     "name": "stdout",
     "output_type": "stream",
     "text": [
      "[Anomaly] Built Batch 20 with 300 anomalous transactions, dense baskets over 200 rare items.\n"
     ]
    }
   ],
   "source": [
    "n_total, d = X.shape\n",
    "\n",
    "item_counts = np.diff(X.tocsc().indptr)           # occurrences per item\n",
    "global_support = item_counts / float(n_total)     # support in [0,1]\n",
    "rare_items = np.where(global_support < RARE_ITEM_CUTOFF)[0]\n",
    "\n",
    "if rare_items.size < 100:\n",
    "    rare_items = np.where(global_support < 0.02)[0]\n",
    "if rare_items.size == 0:\n",
    "    rare_items = np.arange(d)\n",
    "\n",
    "cluster_size = min(200, rare_items.size)          \n",
    "cluster_items = np.random.choice(rare_items, size=cluster_size, replace=False)\n",
    "\n",
    "rows = []\n",
    "cols = []\n",
    "for r in range(ANOMALY_TXN_COUNT):\n",
    "    k = np.random.randint(ANOMALY_BASKET_MIN, ANOMALY_BASKET_MAX + 1)\n",
    "    chosen = np.random.choice(cluster_items, size=min(k, cluster_size), replace=False)\n",
    "    rows.extend([r] * len(chosen))\n",
    "    cols.extend(chosen.tolist())\n",
    "\n",
    "data = np.ones(len(rows), dtype=np.float32)\n",
    "X_anom = sparse.csr_matrix((data, (rows, cols)), shape=(ANOMALY_TXN_COUNT, d))\n",
    "\n",
    "X_aug = sparse.vstack([X, X_anom], format=\"csr\")\n",
    "\n",
    "start_idx = n_total\n",
    "end_idx = n_total + ANOMALY_TXN_COUNT\n",
    "batch20_txn_ids = np.arange(start_idx, end_idx, dtype=int)\n",
    "\n",
    "stream_batches_txn_ids.append(batch20_txn_ids)\n",
    "\n",
    "print(f\"[Anomaly] Built Batch 20 with {ANOMALY_TXN_COUNT} anomalous transactions, \"\n",
    "      f\"dense baskets over {cluster_size} rare items.\")"
   ]
  },
  {
   "cell_type": "code",
   "execution_count": 53,
   "id": "e7b56a3e",
   "metadata": {},
   "outputs": [
    {
     "name": "stdout",
     "output_type": "stream",
     "text": [
      "[GRP] Saved Batch 20 sketch and updated manifest.\n",
      "[IPCA] Saved Batch 20 IPCA sketch.\n",
      "[FD] Saved Batch 20 FD sketch.\n"
     ]
    }
   ],
   "source": [
    "\n",
    "grp_dir = Path(\"artifacts/sketch_grp\")\n",
    "grp_dir.mkdir(parents=True, exist_ok=True)\n",
    "grp_info = joblib.load(grp_dir / \"grp_projection_matrix.joblib\")\n",
    "R = grp_info[\"R\"].astype(np.float32, copy=False)   # (d × k)\n",
    "\n",
    "Xb20 = X_aug[batch20_txn_ids, :]                   # CSR\n",
    "Y20 = (Xb20 @ R).astype(np.float32, copy=False)\n",
    "\n",
    "grp_b20_path = grp_dir / \"grp_batch_20.joblib\"\n",
    "joblib.dump({\"batch_id\": 20,\n",
    "             \"txn_ids\": batch20_txn_ids,\n",
    "             \"Y_batch\": Y20,\n",
    "             \"k\": int(R.shape[1])}, grp_b20_path)\n",
    "\n",
    "grp_manifest_path = grp_dir / \"grp_manifest.joblib\"\n",
    "if grp_manifest_path.exists():\n",
    "    manifest = joblib.load(grp_manifest_path)\n",
    "else:\n",
    "    manifest = {\"batches\": []}\n",
    "if isinstance(manifest, dict):\n",
    "    manifest_list = manifest.get(\"batches\", [])\n",
    "    manifest_list.append({\"batch_id\": 20, \"file\": str(grp_b20_path)})\n",
    "    manifest[\"batches\"] = manifest_list\n",
    "else:\n",
    "    manifest.append({\"batch_id\": 20, \"file\": str(grp_b20_path)})\n",
    "joblib.dump(manifest, grp_manifest_path)\n",
    "print(\"[GRP] Saved Batch 20 sketch and updated manifest.\")\n",
    "\n",
    "def gram_schmidt_orth(x, V_list):\n",
    "    if not V_list:\n",
    "        nrm = np.linalg.norm(x)\n",
    "        return x / nrm if nrm > 0 else x\n",
    "    for v in V_list:\n",
    "        x -= (v @ x) * v\n",
    "    nrm = np.linalg.norm(x)\n",
    "    return x / nrm if nrm > 0 else x\n",
    "\n",
    "n_b20, d = Xb20.shape\n",
    "mu20 = np.asarray(Xb20.sum(axis=0)).ravel() / float(n_b20)\n",
    "ones20 = np.ones(n_b20, dtype=np.float64)\n",
    "\n",
    "def cov_times_b20(w):\n",
    "    w = w.astype(np.float64, copy=False)\n",
    "    Xw = Xb20.dot(w)\n",
    "    z = Xw - float(mu20 @ w) * ones20\n",
    "    Ct_w = (Xb20.T.dot(z)) / float(n_b20)\n",
    "    return np.asarray(Ct_w).ravel()\n",
    "\n",
    "rng = np.random.default_rng(123)\n",
    "k_ipca = 50 if d >= 50 else max(2, d)\n",
    "n_iter = 7\n",
    "tol = 1e-6\n",
    "V_ipca = []\n",
    "S_ipca = []\n",
    "for comp in range(k_ipca):\n",
    "    w = rng.normal(size=d)\n",
    "    w = gram_schmidt_orth(w, V_ipca)\n",
    "    if np.linalg.norm(w) == 0:\n",
    "        break\n",
    "    last_val = 0.0\n",
    "    for _ in range(n_iter):\n",
    "        u = cov_times_b20(w)\n",
    "        u = gram_schmidt_orth(u, V_ipca)\n",
    "        nrm = np.linalg.norm(u)\n",
    "        if nrm == 0:\n",
    "            break\n",
    "        w = u / nrm\n",
    "        lam = float(w @ cov_times_b20(w))\n",
    "        if abs(lam - last_val) <= tol * max(1.0, abs(lam)):\n",
    "            break\n",
    "        last_val = lam\n",
    "    eigval = float(w @ cov_times_b20(w))\n",
    "    if eigval <= 0 or not np.isfinite(eigval):\n",
    "        break\n",
    "    V_ipca.append(w.astype(np.float32, copy=False))\n",
    "    S_ipca.append(eigval)\n",
    "V_ipca = np.stack(V_ipca, axis=1) if len(V_ipca) else np.zeros((d,0), dtype=np.float32)\n",
    "S_ipca = np.array(S_ipca, dtype=np.float32)\n",
    "\n",
    "ipca_dir = Path(\"artifacts/sketch_ipca\")\n",
    "ipca_dir.mkdir(parents=True, exist_ok=True)\n",
    "ipca_b20_path = ipca_dir / \"ipca_batch_20.joblib\"\n",
    "joblib.dump({\n",
    "    \"batch_id\": 20,\n",
    "    \"txn_ids\": batch20_txn_ids,\n",
    "    \"mean_batch\": mu20.astype(np.float32, copy=False),\n",
    "    \"components\": V_ipca,\n",
    "    \"explained_variances\": S_ipca,\n",
    "    \"n_samples_batch\": int(n_b20),\n",
    "    \"n_features\": int(d),\n",
    "}, ipca_b20_path)\n",
    "print(\"[IPCA] Saved Batch 20 IPCA sketch.\")\n",
    "\n",
    "fd_dir = Path(\"artifacts/sketch_fd\")\n",
    "fd_dir.mkdir(parents=True, exist_ok=True)\n",
    "\n",
    "ell = 128 if d >= 128 else min(d, 128)\n",
    "B = np.zeros((2*ell, d), dtype=np.float32)\n",
    "next_row = 0\n",
    "indptr, indices, data = Xb20.indptr, Xb20.indices, Xb20.data\n",
    "\n",
    "def fd_shrink(B_buf, ell):\n",
    "    U, s, Vt = np.linalg.svd(B_buf, full_matrices=False)\n",
    "    delta = s[ell - 1] ** 2\n",
    "    s_shrunk_sq = np.maximum(s**2 - delta, 0.0)\n",
    "    s_top = np.sqrt(s_shrunk_sq[:ell])\n",
    "    Vt_top = Vt[:ell, :]\n",
    "    return (s_top[:, None] * Vt_top).astype(np.float32, copy=False)\n",
    "\n",
    "for r in range(n_b20):\n",
    "    st, ed = indptr[r], indptr[r+1]\n",
    "    cols = indices[st:ed]\n",
    "    vals = data[st:ed]\n",
    "    B[next_row, cols] = vals.astype(np.float32, copy=False)\n",
    "    next_row += 1\n",
    "    if next_row == 2*ell:\n",
    "        B = fd_shrink(B, ell)\n",
    "        B = np.vstack([B, np.zeros((ell, d), dtype=np.float32)])\n",
    "        next_row = ell\n",
    "\n",
    "if next_row > ell:\n",
    "    B_final = fd_shrink(B[:next_row, :], ell)\n",
    "else:\n",
    "    B_final = B[:ell, :].copy()\n",
    "\n",
    "fd_b20_path = fd_dir / \"fd_batch_20.joblib\"\n",
    "joblib.dump({\n",
    "    \"batch_id\": 20,\n",
    "    \"txn_ids\": batch20_txn_ids,\n",
    "    \"B\": B_final,\n",
    "    \"ell\": ell,\n",
    "    \"n_rows_batch\": int(n_b20),\n",
    "    \"n_features\": int(d),\n",
    "}, fd_b20_path)\n",
    "print(\"[FD] Saved Batch 20 FD sketch.\")\n"
   ]
  },
  {
   "cell_type": "code",
   "execution_count": 54,
   "id": "26bb44ad",
   "metadata": {},
   "outputs": [
    {
     "name": "stdout",
     "output_type": "stream",
     "text": [
      "[Metrics] Appended Batch 20 metrics to artifacts/step5_metrics.csv\n"
     ]
    }
   ],
   "source": [
    "metrics_path = Path(\"artifacts/step5_metrics.csv\")\n",
    "if not metrics_path.exists():\n",
    "    raise FileNotFoundError(\"Missing artifacts/step5_metrics.csv from Step 5.\")\n",
    "\n",
    "df_hist = pd.read_csv(metrics_path)\n",
    "df_hist = df_hist.sort_values([\"batch_id\", \"method\"]).reset_index(drop=True)\n",
    "\n",
    "def frobenius_sq_sparse(Xb_csr):\n",
    "    return float((Xb_csr.multiply(Xb_csr)).sum())\n",
    "\n",
    "E_unc_sq_20 = frobenius_sq_sparse(Xb20)\n",
    "E_unc_20 = np.sqrt(E_unc_sq_20)\n",
    "\n",
    "RtR = R.T @ R\n",
    "RtR_inv = np.linalg.inv(RtR)\n",
    "S = Y20.T @ Y20\n",
    "E_grp_pres_sq_20 = float(np.trace(RtR_inv @ S))\n",
    "EVR_grp_20 = (E_grp_pres_sq_20 / E_unc_sq_20) if E_unc_sq_20 > 0 else 0.0\n",
    "RE_grp_20 = 1.0 - EVR_grp_20\n",
    "\n",
    "mu_b20 = mu20.astype(np.float64, copy=False)\n",
    "V = V_ipca.astype(np.float64, copy=False)\n",
    "r = V.shape[1]\n",
    "E_centered_total_sq_20 = max(E_unc_sq_20 - n_b20 * float(mu_b20 @ mu_b20), 0.0)\n",
    "if r > 0:\n",
    "    XbV = Xb20 @ V\n",
    "    muV = mu_b20 @ V\n",
    "    T = XbV - np.outer(np.ones(n_b20, dtype=np.float64), muV)\n",
    "    E_ipca_pres_sq_20 = float((T * T).sum())\n",
    "    EVR_ipca_20 = (E_ipca_pres_sq_20 / E_centered_total_sq_20) if E_centered_total_sq_20 > 0 else 0.0\n",
    "    RE_ipca_20 = 1.0 - EVR_ipca_20\n",
    "else:\n",
    "    EVR_ipca_20 = 0.0\n",
    "    RE_ipca_20 = 1.0\n",
    "\n",
    "Ub, sb, Vt_b = np.linalg.svd(B_final.astype(np.float64, copy=False), full_matrices=False)\n",
    "Vb = Vt_b.T\n",
    "XbVb = Xb20 @ Vb\n",
    "E_fd_pres_sq_20 = float((XbVb * XbVb).sum())\n",
    "EVR_fd_20 = (E_fd_pres_sq_20 / E_unc_sq_20) if E_unc_sq_20 > 0 else 0.0\n",
    "RE_fd_20 = 1.0 - EVR_fd_20\n",
    "\n",
    "rec20 = pd.DataFrame([\n",
    "    {\"batch_id\": 20, \"method\": \"GRP\",  \"n_samples\": n_b20, \"n_features\": d,\n",
    "     \"fro_norm\": E_unc_20, \"explained_variance_ratio\": EVR_grp_20,  \"reconstruction_error\": RE_grp_20},\n",
    "    {\"batch_id\": 20, \"method\": \"IPCA\", \"n_samples\": n_b20, \"n_features\": d,\n",
    "     \"fro_norm\": np.sqrt(E_centered_total_sq_20) if E_centered_total_sq_20 > 0 else 0.0,\n",
    "     \"explained_variance_ratio\": EVR_ipca_20, \"reconstruction_error\": RE_ipca_20},\n",
    "    {\"batch_id\": 20, \"method\": \"FD\",   \"n_samples\": n_b20, \"n_features\": d,\n",
    "     \"fro_norm\": E_unc_20, \"explained_variance_ratio\": EVR_fd_20,   \"reconstruction_error\": RE_fd_20},\n",
    "])\n",
    "\n",
    "df_all = pd.concat([df_hist, rec20], ignore_index=True).sort_values([\"batch_id\", \"method\"])\n",
    "df_all.to_csv(metrics_path, index=False)\n",
    "print(\"[Metrics] Appended Batch 20 metrics to artifacts/step5_metrics.csv\")"
   ]
  },
  {
   "cell_type": "code",
   "execution_count": 55,
   "id": "051279fd",
   "metadata": {},
   "outputs": [
    {
     "name": "stdout",
     "output_type": "stream",
     "text": [
      "\n",
      "=== Step 8 — Anomaly report (batch 20 vs history) ===\n",
      "method  EVR_mean_prev  EVR_std_prev  EVR_at_20     z_EVR  RE_mean_prev  RE_std_prev  RE_at_20       z_RE  EVR_drop_flag(>|-3|)  RE_rise_flag(>+3)\n",
      "   GRP       0.069830      0.000285   0.070214  1.347195      0.930170     0.000285  0.929786  -1.347195                 False              False\n",
      "  IPCA       0.358483      0.008544   0.551612 22.603099      0.641517     0.008544  0.448388 -22.603099                 False              False\n",
      "    FD       0.538575      0.009452   0.917872 40.129096      0.461425     0.009452  0.082128 -40.129096                 False              False\n"
     ]
    },
    {
     "name": "stderr",
     "output_type": "stream",
     "text": [
      "/tmp/ipykernel_1436/3986586263.py:13: FutureWarning: Calling float on a single element Series is deprecated and will raise a TypeError in the future. Use float(ser.iloc[0]) instead\n",
      "  evr20 = float(df_m[df_m[\"batch_id\"] == 20][\"explained_variance_ratio\"])\n",
      "/tmp/ipykernel_1436/3986586263.py:14: FutureWarning: Calling float on a single element Series is deprecated and will raise a TypeError in the future. Use float(ser.iloc[0]) instead\n",
      "  re20  = float(df_m[df_m[\"batch_id\"] == 20][\"reconstruction_error\"])\n"
     ]
    }
   ],
   "source": [
    "def anomaly_scores(series_vals, val_at_20):\n",
    "    vals = np.array(series_vals, dtype=float)\n",
    "    mu = np.mean(vals)\n",
    "    sd = np.std(vals, ddof=1) if len(vals) > 1 else 0.0\n",
    "    z = (val_at_20 - mu) / sd if sd > 0 else np.nan\n",
    "    return mu, sd, z\n",
    "\n",
    "report_rows = []\n",
    "for method in [\"GRP\", \"IPCA\", \"FD\"]:\n",
    "    df_m = df_all[df_all[\"method\"] == method].sort_values(\"batch_id\")\n",
    "    evr_vals = df_m[df_m[\"batch_id\"] < 20][\"explained_variance_ratio\"].values\n",
    "    re_vals  = df_m[df_m[\"batch_id\"] < 20][\"reconstruction_error\"].values\n",
    "    evr20 = float(df_m[df_m[\"batch_id\"] == 20][\"explained_variance_ratio\"])\n",
    "    re20  = float(df_m[df_m[\"batch_id\"] == 20][\"reconstruction_error\"])\n",
    "\n",
    "    mu_evr, sd_evr, z_evr = anomaly_scores(evr_vals, evr20)   # lower EVR => anomaly (drop)\n",
    "    mu_re,  sd_re,  z_re  = anomaly_scores(re_vals,  re20)    # higher RE  => anomaly (rise)\n",
    "\n",
    "    report_rows.append({\n",
    "        \"method\": method,\n",
    "        \"EVR_mean_prev\": mu_evr, \"EVR_std_prev\": sd_evr, \"EVR_at_20\": evr20, \"z_EVR\": (evr20 - mu_evr)/(sd_evr if sd_evr>0 else np.nan),\n",
    "        \"RE_mean_prev\": mu_re,   \"RE_std_prev\": sd_re,   \"RE_at_20\": re20,   \"z_RE\":  (re20  - mu_re) /(sd_re  if sd_re>0 else np.nan),\n",
    "        \"EVR_drop_flag(>|-3|)\": (z_evr <= -3.0) if not np.isnan(z_evr) else False,\n",
    "        \"RE_rise_flag(>+3)\":    (z_re  >= +3.0) if not np.isnan(z_re)  else False,\n",
    "    })\n",
    "\n",
    "df_anom = pd.DataFrame(report_rows)\n",
    "print(\"\\n=== Step 8 — Anomaly report (batch 20 vs history) ===\")\n",
    "print(df_anom.to_string(index=False))\n"
   ]
  },
  {
   "cell_type": "code",
   "execution_count": 56,
   "id": "436e34e4",
   "metadata": {},
   "outputs": [
    {
     "data": {
      "image/png": "[encoded data removed]",
      "text/plain": [
       "<Figure size 800x500 with 1 Axes>"
      ]
     },
     "metadata": {},
     "output_type": "display_data"
    },
    {
     "data": {
      "image/png": "[encoded data removed]",
      "text/plain": [
       "<Figure size 800x500 with 1 Axes>"
      ]
     },
     "metadata": {},
     "output_type": "display_data"
    },
    {
     "data": {
      "image/png": "[encoded data removed]",
      "text/plain": [
       "<Figure size 800x500 with 1 Axes>"
      ]
     },
     "metadata": {},
     "output_type": "display_data"
    }
   ],
   "source": [
    "for col, ylabel in [\n",
    "    (\"fro_norm\", \"Frobenius Norm\"),\n",
    "    (\"explained_variance_ratio\", \"Explained Variance Ratio (EVR)\"),\n",
    "    (\"reconstruction_error\", \"Reconstruction Error\"),\n",
    "]:\n",
    "    plt.figure(figsize=(8, 5))\n",
    "\n",
    "    styles = {\n",
    "        \"FD\":  {\"color\": \"blue\",   \"linestyle\": \"-\",  \"marker\": \"o\",  \"label\": \"FD\"},\n",
    "        \"GRP\": {\"color\": \"orange\", \"linestyle\": \"--\", \"marker\": \"s\",  \"label\": \"GRP\"},\n",
    "        \"IPCA\":{\"color\": \"green\",  \"linestyle\": \"-.\", \"marker\": \"d\",  \"label\": \"IPCA\"},\n",
    "    }\n",
    "\n",
    "    for method in [\"FD\", \"GRP\", \"IPCA\"]:\n",
    "        g = df_all[df_all[\"method\"] == method].sort_values(\"batch_id\")\n",
    "        plt.plot(\n",
    "            g[\"batch_id\"].values,\n",
    "            g[col].values,\n",
    "            linewidth=2,\n",
    "            linestyle=styles[method][\"linestyle\"],\n",
    "            marker=styles[method][\"marker\"],\n",
    "            color=styles[method][\"color\"],\n",
    "            label=styles[method][\"label\"]\n",
    "        )\n",
    "\n",
    "    plt.axvline(20, linestyle=\"--\", color=\"black\", linewidth=1.2, alpha=0.8)\n",
    "\n",
    "    plt.title(f\"{ylabel} Over Time (Anomaly at Batch 20)\")\n",
    "    plt.xlabel(\"Batch ID\")\n",
    "    plt.ylabel(ylabel)\n",
    "    plt.legend(title=\"Algorithm\")\n",
    "    plt.tight_layout()\n",
    "    plt.show()\n",
    "\n"
   ]
  },
  {
   "cell_type": "code",
   "execution_count": null,
   "id": "f244c024",
   "metadata": {},
   "outputs": [],
   "source": []
  }
 ],
 "metadata": {
  "kernelspec": {
   "display_name": "SaraFirouzabadi",
   "language": "python",
   "name": "python3"
  },
  "language_info": {
   "codemirror_mode": {
    "name": "ipython",
    "version": 3
   },
   "file_extension": ".py",
   "mimetype": "text/x-python",
   "name": "python",
   "nbconvert_exporter": "python",
   "pygments_lexer": "ipython3",
   "version": "3.10.14"
  }
 },
 "nbformat": 4,
 "nbformat_minor": 5
}
